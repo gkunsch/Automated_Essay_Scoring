{
 "cells": [
  {
   "cell_type": "code",
   "execution_count": 1,
   "metadata": {
    "_cell_guid": "b1076dfc-b9ad-4769-8c92-a6c4dae69d19",
    "_uuid": "8f2839f25d086af736a60e9eeb907d3b93b6e0e5",
    "execution": {
     "iopub.execute_input": "2021-04-11T01:39:47.219987Z",
     "iopub.status.busy": "2021-04-11T01:39:47.216948Z",
     "iopub.status.idle": "2021-04-11T01:39:47.224680Z",
     "shell.execute_reply": "2021-04-11T01:39:47.223985Z"
    },
    "papermill": {
     "duration": 0.044706,
     "end_time": "2021-04-11T01:39:47.224806",
     "exception": false,
     "start_time": "2021-04-11T01:39:47.180100",
     "status": "completed"
    },
    "tags": []
   },
   "outputs": [
    {
     "name": "stdout",
     "output_type": "stream",
     "text": [
      "/kaggle/input/asap-aes/valid_sample_submission_1_column.csv\n",
      "/kaggle/input/asap-aes/Training_Materials.zip\n",
      "/kaggle/input/asap-aes/training_set_rel3.xls\n",
      "/kaggle/input/asap-aes/valid_sample_submission_1_column_no_header.csv\n",
      "/kaggle/input/asap-aes/Essay_Set_Descriptions.zip\n",
      "/kaggle/input/asap-aes/training_set_rel3.xlsx\n",
      "/kaggle/input/asap-aes/valid_set.xls\n",
      "/kaggle/input/asap-aes/training_set_rel3.tsv\n",
      "/kaggle/input/asap-aes/valid_sample_submission_5_column.csv\n",
      "/kaggle/input/asap-aes/valid_set.xlsx\n",
      "/kaggle/input/asap-aes/valid_set.tsv\n",
      "/kaggle/input/asap-aes/test_set.tsv\n",
      "/kaggle/input/asap-aes/valid_sample_submission_2_column.csv\n"
     ]
    }
   ],
   "source": [
    "# This Python 3 environment comes with many helpful analytics libraries installed\n",
    "# It is defined by the kaggle/python Docker image: https://github.com/kaggle/docker-python\n",
    "# For example, here's several helpful packages to load\n",
    "\n",
    "import numpy as np # linear algebra\n",
    "import pandas as pd # data processing, CSV file I/O (e.g. pd.read_csv)\n",
    "\n",
    "# Input data files are available in the read-only \"../input/\" directory\n",
    "# For example, running this (by clicking run or pressing Shift+Enter) will list all files under the input directory\n",
    "\n",
    "import os\n",
    "for dirname, _, filenames in os.walk('/kaggle/input'):\n",
    "    for filename in filenames:\n",
    "        print(os.path.join(dirname, filename))\n",
    "\n",
    "        \n",
    "# You can write up to 20GB to the current directory (/kaggle/working/) that gets preserved as output when you create a version using \"Save & Run All\" \n",
    "# You can also write temporary files to /kaggle/temp/, but they won't be saved outside of the current session"
   ]
  },
  {
   "cell_type": "code",
   "execution_count": 2,
   "metadata": {
    "_cell_guid": "79c7e3d0-c299-4dcb-8224-4455121ee9b0",
    "_uuid": "d629ff2d2480ee46fbb7e2d37f6b5fab8052498a",
    "execution": {
     "iopub.execute_input": "2021-04-11T01:39:47.288895Z",
     "iopub.status.busy": "2021-04-11T01:39:47.288391Z",
     "iopub.status.idle": "2021-04-11T01:39:47.669329Z",
     "shell.execute_reply": "2021-04-11T01:39:47.668879Z"
    },
    "papermill": {
     "duration": 0.414025,
     "end_time": "2021-04-11T01:39:47.669431",
     "exception": false,
     "start_time": "2021-04-11T01:39:47.255406",
     "status": "completed"
    },
    "tags": []
   },
   "outputs": [
    {
     "data": {
      "text/html": [
       "<div>\n",
       "<style scoped>\n",
       "    .dataframe tbody tr th:only-of-type {\n",
       "        vertical-align: middle;\n",
       "    }\n",
       "\n",
       "    .dataframe tbody tr th {\n",
       "        vertical-align: top;\n",
       "    }\n",
       "\n",
       "    .dataframe thead th {\n",
       "        text-align: right;\n",
       "    }\n",
       "</style>\n",
       "<table border=\"1\" class=\"dataframe\">\n",
       "  <thead>\n",
       "    <tr style=\"text-align: right;\">\n",
       "      <th></th>\n",
       "      <th>essay</th>\n",
       "      <th>domain1_score</th>\n",
       "    </tr>\n",
       "  </thead>\n",
       "  <tbody>\n",
       "    <tr>\n",
       "      <th>0</th>\n",
       "      <td>Dear local newspaper, I think effects computer...</td>\n",
       "      <td>8</td>\n",
       "    </tr>\n",
       "    <tr>\n",
       "      <th>1</th>\n",
       "      <td>Dear @CAPS1 @CAPS2, I believe that using compu...</td>\n",
       "      <td>9</td>\n",
       "    </tr>\n",
       "    <tr>\n",
       "      <th>2</th>\n",
       "      <td>Dear, @CAPS1 @CAPS2 @CAPS3 More and more peopl...</td>\n",
       "      <td>7</td>\n",
       "    </tr>\n",
       "    <tr>\n",
       "      <th>3</th>\n",
       "      <td>Dear Local Newspaper, @CAPS1 I have found that...</td>\n",
       "      <td>10</td>\n",
       "    </tr>\n",
       "    <tr>\n",
       "      <th>4</th>\n",
       "      <td>Dear @LOCATION1, I know having computers has a...</td>\n",
       "      <td>8</td>\n",
       "    </tr>\n",
       "  </tbody>\n",
       "</table>\n",
       "</div>"
      ],
      "text/plain": [
       "                                               essay  domain1_score\n",
       "0  Dear local newspaper, I think effects computer...              8\n",
       "1  Dear @CAPS1 @CAPS2, I believe that using compu...              9\n",
       "2  Dear, @CAPS1 @CAPS2 @CAPS3 More and more peopl...              7\n",
       "3  Dear Local Newspaper, @CAPS1 I have found that...             10\n",
       "4  Dear @LOCATION1, I know having computers has a...              8"
      ]
     },
     "execution_count": 2,
     "metadata": {},
     "output_type": "execute_result"
    }
   ],
   "source": [
    "import os\n",
    "import pandas as pd\n",
    "\n",
    "df = pd.read_csv(\"../input/asap-aes/training_set_rel3.tsv\", sep='\\t', encoding='ISO-8859-1')\n",
    "df = df.dropna(axis=1)\n",
    "df = df.drop(columns=['rater1_domain1', 'rater2_domain1'])\n",
    "df = df.drop(columns=['essay_id', 'essay_set'])\n",
    "df.head()"
   ]
  },
  {
   "cell_type": "code",
   "execution_count": 3,
   "metadata": {
    "execution": {
     "iopub.execute_input": "2021-04-11T01:39:47.731253Z",
     "iopub.status.busy": "2021-04-11T01:39:47.730481Z",
     "iopub.status.idle": "2021-04-11T01:39:47.733578Z",
     "shell.execute_reply": "2021-04-11T01:39:47.734005Z"
    },
    "papermill": {
     "duration": 0.036085,
     "end_time": "2021-04-11T01:39:47.734110",
     "exception": false,
     "start_time": "2021-04-11T01:39:47.698025",
     "status": "completed"
    },
    "tags": []
   },
   "outputs": [
    {
     "data": {
      "text/plain": [
       "\"Dear @CAPS1 @CAPS2, I believe that using computers will benefit us in many ways like talking and becoming friends will others through websites like facebook and mysace. Using computers can help us find coordibates, locations, and able ourselfs to millions of information. Also computers will benefit us by helping with jobs as in planning a house plan and typing a @NUM1 page report for one of our jobs in less than writing it. Now lets go into the wonder world of technology. Using a computer will help us in life by talking or making friends on line. Many people have myspace, facebooks, aim, these all benefit us by having conversations with one another. Many people believe computers are bad but how can you make friends if you can never talk to them? I am very fortunate for having a computer that can help with not only school work but my social life and how I make friends. Computers help us with finding our locations, coordibates and millions of information online. If we didn't go on the internet a lot we wouldn't know how to go onto websites that @MONTH1 help us with locations and coordinates like @LOCATION1. Would you rather use a computer or be in @LOCATION3. When your supposed to be vacationing in @LOCATION2. Million of information is found on the internet. You can as almost every question and a computer will have it. Would you rather easily draw up a house plan on the computers or take @NUM1 hours doing one by hand with ugly erazer marks all over it, you are garrenteed that to find a job with a drawing like that. Also when appling for a job many workers must write very long papers like a @NUM3 word essay on why this job fits you the most, and many people I know don't like writing @NUM3 words non-stopp for hours when it could take them I hav an a computer. That is why computers we needed a lot now adays. I hope this essay has impacted your descion on computers because they are great machines to work with. The other day I showed my mom how to use a computer and she said it was the greatest invention sense sliced bread! Now go out and buy a computer to help you chat online with friends, find locations and millions of information on one click of the button and help your self with getting a job with neat, prepared, printed work that your boss will love.\""
      ]
     },
     "execution_count": 3,
     "metadata": {},
     "output_type": "execute_result"
    }
   ],
   "source": [
    "df['essay'][1]"
   ]
  },
  {
   "cell_type": "code",
   "execution_count": 4,
   "metadata": {
    "execution": {
     "iopub.execute_input": "2021-04-11T01:39:47.798996Z",
     "iopub.status.busy": "2021-04-11T01:39:47.798447Z",
     "iopub.status.idle": "2021-04-11T01:39:54.357058Z",
     "shell.execute_reply": "2021-04-11T01:39:54.355988Z"
    },
    "papermill": {
     "duration": 6.594293,
     "end_time": "2021-04-11T01:39:54.357188",
     "exception": false,
     "start_time": "2021-04-11T01:39:47.762895",
     "status": "completed"
    },
    "tags": []
   },
   "outputs": [],
   "source": [
    "import warnings\n",
    "warnings.filterwarnings(\"ignore\")                     #Ignoring unnecessory warnings\n",
    "\n",
    "import numpy as np                                  #for large and multi-dimensional arrays\n",
    "import pandas as pd                                 #for data manipulation and analysis\n",
    "import nltk                                         #Natural language processing tool-kit\n",
    "\n",
    "from nltk.corpus import stopwords                   #Stopwords corpus\n",
    "from nltk.stem import PorterStemmer                 # Stemmer\n",
    "\n",
    "from sklearn.feature_extraction.text import CountVectorizer          #For Bag of words\n",
    "from sklearn.feature_extraction.text import TfidfVectorizer          #For TF-IDF\n",
    "from gensim.models import Word2Vec                                   #For Word2Vec\n",
    "\n",
    "from tensorflow.keras.layers import Embedding\n",
    "from tensorflow.keras.preprocessing.sequence import pad_sequences\n",
    "from tensorflow.keras.models import Sequential\n",
    "from tensorflow.keras.preprocessing.text import one_hot\n",
    "from tensorflow.keras.layers import LSTM\n",
    "from tensorflow.keras.layers import Dropout\n",
    "from tensorflow.keras.layers import Dense"
   ]
  },
  {
   "cell_type": "code",
   "execution_count": 5,
   "metadata": {
    "execution": {
     "iopub.execute_input": "2021-04-11T01:39:54.425435Z",
     "iopub.status.busy": "2021-04-11T01:39:54.424762Z",
     "iopub.status.idle": "2021-04-11T01:39:54.427714Z",
     "shell.execute_reply": "2021-04-11T01:39:54.427310Z"
    },
    "papermill": {
     "duration": 0.041202,
     "end_time": "2021-04-11T01:39:54.427800",
     "exception": false,
     "start_time": "2021-04-11T01:39:54.386598",
     "status": "completed"
    },
    "tags": []
   },
   "outputs": [],
   "source": [
    "list_1 = []\n",
    "list_2 = []\n",
    "list_3 = []\n",
    "list_4 = []\n",
    "list_5 = []\n",
    "list_6 = []\n",
    "list_7 = []\n",
    "list_8 = []\n",
    "list_9 = []\n",
    "list_10 = []"
   ]
  },
  {
   "cell_type": "code",
   "execution_count": 6,
   "metadata": {
    "execution": {
     "iopub.execute_input": "2021-04-11T01:39:54.514517Z",
     "iopub.status.busy": "2021-04-11T01:39:54.509371Z",
     "iopub.status.idle": "2021-04-11T01:39:55.570139Z",
     "shell.execute_reply": "2021-04-11T01:39:55.569624Z"
    },
    "papermill": {
     "duration": 1.112739,
     "end_time": "2021-04-11T01:39:55.570268",
     "exception": false,
     "start_time": "2021-04-11T01:39:54.457529",
     "status": "completed"
    },
    "tags": []
   },
   "outputs": [],
   "source": [
    "data = []\n",
    "num = [1,2,3,4,5,6,7,8,9,10]\n",
    "count = 0\n",
    "for i,j in zip(range(len(df)),df[\"essay\"]):\n",
    "    if df[\"domain1_score\"][i] == 1:\n",
    "        list_1.append(j)\n",
    "    if df[\"domain1_score\"][i] == 2:\n",
    "        list_2.append(j)\n",
    "    if df[\"domain1_score\"][i] == 3:\n",
    "        list_3.append(j)\n",
    "    if df[\"domain1_score\"][i] == 4:\n",
    "        list_4.append(j)\n",
    "    if df[\"domain1_score\"][i] == 5:\n",
    "        list_5.append(j)\n",
    "    if df[\"domain1_score\"][i] == 6:\n",
    "        list_6.append(j)\n",
    "    if df[\"domain1_score\"][i] == 7:\n",
    "        list_7.append(j)\n",
    "    if df[\"domain1_score\"][i] == 8:\n",
    "        list_8.append(j)\n",
    "    if df[\"domain1_score\"][i] == 9:\n",
    "        list_9.append(j)\n",
    "    if df[\"domain1_score\"][i] == 10:\n",
    "        list_10.append(j)\n",
    "   "
   ]
  },
  {
   "cell_type": "code",
   "execution_count": 7,
   "metadata": {
    "execution": {
     "iopub.execute_input": "2021-04-11T01:39:55.669184Z",
     "iopub.status.busy": "2021-04-11T01:39:55.668402Z",
     "iopub.status.idle": "2021-04-11T01:39:55.672428Z",
     "shell.execute_reply": "2021-04-11T01:39:55.671965Z"
    },
    "papermill": {
     "duration": 0.039382,
     "end_time": "2021-04-11T01:39:55.672514",
     "exception": false,
     "start_time": "2021-04-11T01:39:55.633132",
     "status": "completed"
    },
    "tags": []
   },
   "outputs": [
    {
     "data": {
      "text/plain": [
       "10323"
      ]
     },
     "execution_count": 7,
     "metadata": {},
     "output_type": "execute_result"
    }
   ],
   "source": [
    "import itertools\n",
    "data = list(itertools.chain(list_1,list_2,list_3,list_4,list_5,list_6,list_7,list_8,list_9,list_10))\n",
    "len(data)"
   ]
  },
  {
   "cell_type": "code",
   "execution_count": 8,
   "metadata": {
    "execution": {
     "iopub.execute_input": "2021-04-11T01:39:55.736082Z",
     "iopub.status.busy": "2021-04-11T01:39:55.735419Z",
     "iopub.status.idle": "2021-04-11T01:39:55.738400Z",
     "shell.execute_reply": "2021-04-11T01:39:55.737975Z"
    },
    "papermill": {
     "duration": 0.036208,
     "end_time": "2021-04-11T01:39:55.738485",
     "exception": false,
     "start_time": "2021-04-11T01:39:55.702277",
     "status": "completed"
    },
    "tags": []
   },
   "outputs": [],
   "source": [
    "def gen_num(num,length):\n",
    "    num_list = [num]*length\n",
    "    return num_list"
   ]
  },
  {
   "cell_type": "code",
   "execution_count": 9,
   "metadata": {
    "execution": {
     "iopub.execute_input": "2021-04-11T01:39:55.807591Z",
     "iopub.status.busy": "2021-04-11T01:39:55.806877Z",
     "iopub.status.idle": "2021-04-11T01:39:55.810345Z",
     "shell.execute_reply": "2021-04-11T01:39:55.809830Z"
    },
    "papermill": {
     "duration": 0.042298,
     "end_time": "2021-04-11T01:39:55.810425",
     "exception": false,
     "start_time": "2021-04-11T01:39:55.768127",
     "status": "completed"
    },
    "tags": []
   },
   "outputs": [
    {
     "data": {
      "text/plain": [
       "10323"
      ]
     },
     "execution_count": 9,
     "metadata": {},
     "output_type": "execute_result"
    }
   ],
   "source": [
    "score_1 = gen_num(1,len(list_1))\n",
    "score_2 = gen_num(2,len(list_2))\n",
    "score_3 = gen_num(3,len(list_3))\n",
    "score_4 = gen_num(4,len(list_4))\n",
    "score_5 = gen_num(5,len(list_5))\n",
    "score_6 = gen_num(6,len(list_6))\n",
    "score_7 = gen_num(7,len(list_7))\n",
    "score_8 = gen_num(8,len(list_8))\n",
    "score_9 = gen_num(9,len(list_9))\n",
    "score_10 = gen_num(10,len(list_10))\n",
    "\n",
    "score = list(itertools.chain(score_1,score_2,score_3,score_4,score_5,score_6,score_7,score_8,score_9,score_10))\n",
    "len(score)\n"
   ]
  },
  {
   "cell_type": "code",
   "execution_count": 10,
   "metadata": {
    "execution": {
     "iopub.execute_input": "2021-04-11T01:39:55.891904Z",
     "iopub.status.busy": "2021-04-11T01:39:55.879722Z",
     "iopub.status.idle": "2021-04-11T01:39:55.895504Z",
     "shell.execute_reply": "2021-04-11T01:39:55.896016Z"
    },
    "papermill": {
     "duration": 0.055246,
     "end_time": "2021-04-11T01:39:55.896117",
     "exception": false,
     "start_time": "2021-04-11T01:39:55.840871",
     "status": "completed"
    },
    "tags": []
   },
   "outputs": [
    {
     "data": {
      "text/html": [
       "<div>\n",
       "<style scoped>\n",
       "    .dataframe tbody tr th:only-of-type {\n",
       "        vertical-align: middle;\n",
       "    }\n",
       "\n",
       "    .dataframe tbody tr th {\n",
       "        vertical-align: top;\n",
       "    }\n",
       "\n",
       "    .dataframe thead th {\n",
       "        text-align: right;\n",
       "    }\n",
       "</style>\n",
       "<table border=\"1\" class=\"dataframe\">\n",
       "  <thead>\n",
       "    <tr style=\"text-align: right;\">\n",
       "      <th></th>\n",
       "      <th>essay</th>\n",
       "      <th>score</th>\n",
       "    </tr>\n",
       "  </thead>\n",
       "  <tbody>\n",
       "    <tr>\n",
       "      <th>0</th>\n",
       "      <td>Write a persuasive essay to a newspaper reflec...</td>\n",
       "      <td>1</td>\n",
       "    </tr>\n",
       "    <tr>\n",
       "      <th>1</th>\n",
       "      <td>If the people that are publishing and writing ...</td>\n",
       "      <td>1</td>\n",
       "    </tr>\n",
       "    <tr>\n",
       "      <th>2</th>\n",
       "      <td>I do think that there should be a censorship i...</td>\n",
       "      <td>1</td>\n",
       "    </tr>\n",
       "    <tr>\n",
       "      <th>3</th>\n",
       "      <td>I belive that they need to keep every thing an...</td>\n",
       "      <td>1</td>\n",
       "    </tr>\n",
       "    <tr>\n",
       "      <th>4</th>\n",
       "      <td>Hi my name is @CAPS1 @CAPS2 @PERSON1 and I'm h...</td>\n",
       "      <td>1</td>\n",
       "    </tr>\n",
       "    <tr>\n",
       "      <th>...</th>\n",
       "      <td>...</td>\n",
       "      <td>...</td>\n",
       "    </tr>\n",
       "    <tr>\n",
       "      <th>10318</th>\n",
       "      <td>A time I was patient was when I had to be pati...</td>\n",
       "      <td>10</td>\n",
       "    </tr>\n",
       "    <tr>\n",
       "      <th>10319</th>\n",
       "      <td>Being patient is hard to be. First of all its ...</td>\n",
       "      <td>10</td>\n",
       "    </tr>\n",
       "    <tr>\n",
       "      <th>10320</th>\n",
       "      <td>One day I was watching @CAPS1. I was bored the...</td>\n",
       "      <td>10</td>\n",
       "    </tr>\n",
       "    <tr>\n",
       "      <th>10321</th>\n",
       "      <td>My own way about patient is that when somebody...</td>\n",
       "      <td>10</td>\n",
       "    </tr>\n",
       "    <tr>\n",
       "      <th>10322</th>\n",
       "      <td>I dont like computers</td>\n",
       "      <td>10</td>\n",
       "    </tr>\n",
       "  </tbody>\n",
       "</table>\n",
       "<p>10323 rows × 2 columns</p>\n",
       "</div>"
      ],
      "text/plain": [
       "                                                   essay  score\n",
       "0      Write a persuasive essay to a newspaper reflec...      1\n",
       "1      If the people that are publishing and writing ...      1\n",
       "2      I do think that there should be a censorship i...      1\n",
       "3      I belive that they need to keep every thing an...      1\n",
       "4      Hi my name is @CAPS1 @CAPS2 @PERSON1 and I'm h...      1\n",
       "...                                                  ...    ...\n",
       "10318  A time I was patient was when I had to be pati...     10\n",
       "10319  Being patient is hard to be. First of all its ...     10\n",
       "10320  One day I was watching @CAPS1. I was bored the...     10\n",
       "10321  My own way about patient is that when somebody...     10\n",
       "10322                              I dont like computers     10\n",
       "\n",
       "[10323 rows x 2 columns]"
      ]
     },
     "execution_count": 10,
     "metadata": {},
     "output_type": "execute_result"
    }
   ],
   "source": [
    "# dictionary of lists \n",
    "dictnary = {'essay': data, 'score': score}     \n",
    "df = pd.DataFrame(dictnary) \n",
    "df "
   ]
  },
  {
   "cell_type": "code",
   "execution_count": 11,
   "metadata": {
    "execution": {
     "iopub.execute_input": "2021-04-11T01:39:55.974624Z",
     "iopub.status.busy": "2021-04-11T01:39:55.973979Z",
     "iopub.status.idle": "2021-04-11T01:39:56.093596Z",
     "shell.execute_reply": "2021-04-11T01:39:56.094238Z"
    },
    "papermill": {
     "duration": 0.167363,
     "end_time": "2021-04-11T01:39:56.094407",
     "exception": false,
     "start_time": "2021-04-11T01:39:55.927044",
     "status": "completed"
    },
    "tags": []
   },
   "outputs": [
    {
     "name": "stdout",
     "output_type": "stream",
     "text": [
      "[nltk_data] Downloading package stopwords to /usr/share/nltk_data...\n",
      "[nltk_data]   Package stopwords is already up-to-date!\n"
     ]
    },
    {
     "data": {
      "text/plain": [
       "True"
      ]
     },
     "execution_count": 11,
     "metadata": {},
     "output_type": "execute_result"
    }
   ],
   "source": [
    "nltk.download('stopwords')"
   ]
  },
  {
   "cell_type": "code",
   "execution_count": 12,
   "metadata": {
    "execution": {
     "iopub.execute_input": "2021-04-11T01:39:56.164765Z",
     "iopub.status.busy": "2021-04-11T01:39:56.164105Z",
     "iopub.status.idle": "2021-04-11T01:39:56.170538Z",
     "shell.execute_reply": "2021-04-11T01:39:56.170074Z"
    },
    "papermill": {
     "duration": 0.043135,
     "end_time": "2021-04-11T01:39:56.170631",
     "exception": false,
     "start_time": "2021-04-11T01:39:56.127496",
     "status": "completed"
    },
    "tags": []
   },
   "outputs": [
    {
     "data": {
      "text/plain": [
       "179"
      ]
     },
     "execution_count": 12,
     "metadata": {},
     "output_type": "execute_result"
    }
   ],
   "source": [
    "stop_words = set(stopwords.words('english'))\n",
    "len(stop_words) #finding stop words"
   ]
  },
  {
   "cell_type": "code",
   "execution_count": 13,
   "metadata": {
    "execution": {
     "iopub.execute_input": "2021-04-11T01:39:56.245604Z",
     "iopub.status.busy": "2021-04-11T01:39:56.244658Z",
     "iopub.status.idle": "2021-04-11T01:44:34.306557Z",
     "shell.execute_reply": "2021-04-11T01:44:34.305813Z"
    },
    "papermill": {
     "duration": 278.103593,
     "end_time": "2021-04-11T01:44:34.306668",
     "exception": false,
     "start_time": "2021-04-11T01:39:56.203075",
     "status": "completed"
    },
    "tags": []
   },
   "outputs": [],
   "source": [
    "import re\n",
    "from nltk.corpus import stopwords\n",
    "from nltk.stem.porter import PorterStemmer\n",
    "snow = nltk.stem.SnowballStemmer('english')\n",
    "\n",
    "corpus = []\n",
    "for i in range(0, len(df)):\n",
    "    review = re.sub('[^a-zA-Z]', ' ', df['essay'][i])\n",
    "    review = review.lower()\n",
    "    review = review.split()\n",
    "    \n",
    "    review = [snow.stem(word) for word in review if not word in stopwords.words('english')]\n",
    "    review = ' '.join(review)\n",
    "    corpus.append(review)"
   ]
  },
  {
   "cell_type": "code",
   "execution_count": 14,
   "metadata": {
    "execution": {
     "iopub.execute_input": "2021-04-11T01:44:34.425486Z",
     "iopub.status.busy": "2021-04-11T01:44:34.410057Z",
     "iopub.status.idle": "2021-04-11T01:44:34.905535Z",
     "shell.execute_reply": "2021-04-11T01:44:34.905963Z"
    },
    "papermill": {
     "duration": 0.566544,
     "end_time": "2021-04-11T01:44:34.906083",
     "exception": false,
     "start_time": "2021-04-11T01:44:34.339539",
     "status": "completed"
    },
    "tags": []
   },
   "outputs": [
    {
     "data": {
      "text/plain": [
       "list"
      ]
     },
     "execution_count": 14,
     "metadata": {},
     "output_type": "execute_result"
    }
   ],
   "source": [
    "voc_size=5000\n",
    "onehot_repr=[one_hot(words,voc_size)for words in corpus] \n",
    "type(onehot_repr)"
   ]
  },
  {
   "cell_type": "code",
   "execution_count": 15,
   "metadata": {
    "execution": {
     "iopub.execute_input": "2021-04-11T01:44:34.978383Z",
     "iopub.status.busy": "2021-04-11T01:44:34.977235Z",
     "iopub.status.idle": "2021-04-11T01:44:35.233935Z",
     "shell.execute_reply": "2021-04-11T01:44:35.233208Z"
    },
    "papermill": {
     "duration": 0.295017,
     "end_time": "2021-04-11T01:44:35.234065",
     "exception": false,
     "start_time": "2021-04-11T01:44:34.939048",
     "status": "completed"
    },
    "tags": []
   },
   "outputs": [
    {
     "name": "stdout",
     "output_type": "stream",
     "text": [
      "[[   0    0    0 ... 3632  481 2651]\n",
      " [   0    0    0 ... 4955 4838 4838]\n",
      " [   0    0    0 ... 3770  143  141]\n",
      " ...\n",
      " [   0    0    0 ... 2411  141   24]\n",
      " [   0    0    0 ... 2857  884 1973]\n",
      " [   0    0    0 ...  185 3564   24]]\n"
     ]
    }
   ],
   "source": [
    "sent_length=400\n",
    "embedded_docs=pad_sequences(onehot_repr,padding='pre',maxlen=sent_length)\n",
    "print(embedded_docs)"
   ]
  },
  {
   "cell_type": "code",
   "execution_count": null,
   "metadata": {
    "papermill": {
     "duration": 0.033031,
     "end_time": "2021-04-11T01:44:35.300721",
     "exception": false,
     "start_time": "2021-04-11T01:44:35.267690",
     "status": "completed"
    },
    "tags": []
   },
   "outputs": [],
   "source": []
  },
  {
   "cell_type": "code",
   "execution_count": 16,
   "metadata": {
    "execution": {
     "iopub.execute_input": "2021-04-11T01:44:35.381105Z",
     "iopub.status.busy": "2021-04-11T01:44:35.374559Z",
     "iopub.status.idle": "2021-04-11T01:44:35.383750Z",
     "shell.execute_reply": "2021-04-11T01:44:35.383342Z"
    },
    "papermill": {
     "duration": 0.049924,
     "end_time": "2021-04-11T01:44:35.383845",
     "exception": false,
     "start_time": "2021-04-11T01:44:35.333921",
     "status": "completed"
    },
    "tags": []
   },
   "outputs": [],
   "source": [
    "import numpy as np\n",
    "import nltk\n",
    "import re\n",
    "from nltk.corpus import stopwords\n",
    "from gensim.models import Word2Vec\n",
    "\n",
    "def essay_to_wordlist(essay_v, remove_stopwords):\n",
    "    \"\"\"Remove the tagged labels and word tokenize the sentence.\"\"\"\n",
    "    essay_v = re.sub(\"[^a-zA-Z]\", \" \", essay_v)\n",
    "    words = essay_v.lower().split()\n",
    "    if remove_stopwords:\n",
    "        stops = set(stopwords.words(\"english\"))\n",
    "        words = [w for w in words if not w in stops]\n",
    "    return (words)\n",
    "\n",
    "def essay_to_sentences(essay_v, remove_stopwords):\n",
    "    \"\"\"Sentence tokenize the essay and call essay_to_wordlist() for word tokenization.\"\"\"\n",
    "    tokenizer = nltk.data.load('tokenizers/punkt/english.pickle')\n",
    "    raw_sentences = tokenizer.tokenize(essay_v.strip())\n",
    "    sentences = []\n",
    "    for raw_sentence in raw_sentences:\n",
    "        if len(raw_sentence) > 0:\n",
    "            sentences.append(essay_to_wordlist(raw_sentence, remove_stopwords))\n",
    "    return sentences\n",
    "\n",
    "def makeFeatureVec(words, model, num_features):\n",
    "    \"\"\"Make Feature Vector from the words list of an Essay.\"\"\"\n",
    "    featureVec = np.zeros((num_features,),dtype=\"float32\")\n",
    "    num_words = 0.\n",
    "    index2word_set = set(model.wv.index2word)\n",
    "    for word in words:\n",
    "        if word in index2word_set:\n",
    "            num_words += 1\n",
    "            featureVec = np.add(featureVec,model[word])        \n",
    "    featureVec = np.divide(featureVec,num_words)\n",
    "    return featureVec\n",
    "\n",
    "def getAvgFeatureVecs(essays, model, num_features):\n",
    "    \"\"\"Main function to generate the word vectors for word2vec model.\"\"\"\n",
    "    counter = 0\n",
    "    essayFeatureVecs = np.zeros((len(essays),num_features),dtype=\"float32\")\n",
    "    for essay in essays:\n",
    "        essayFeatureVecs[counter] = makeFeatureVec(essay, model, num_features)\n",
    "        counter = counter + 1\n",
    "    return essayFeatureVecs"
   ]
  },
  {
   "cell_type": "code",
   "execution_count": 17,
   "metadata": {
    "execution": {
     "iopub.execute_input": "2021-04-11T01:44:35.454554Z",
     "iopub.status.busy": "2021-04-11T01:44:35.453621Z",
     "iopub.status.idle": "2021-04-11T01:44:35.458691Z",
     "shell.execute_reply": "2021-04-11T01:44:35.459402Z"
    },
    "papermill": {
     "duration": 0.042977,
     "end_time": "2021-04-11T01:44:35.459537",
     "exception": false,
     "start_time": "2021-04-11T01:44:35.416560",
     "status": "completed"
    },
    "tags": []
   },
   "outputs": [
    {
     "name": "stdout",
     "output_type": "stream",
     "text": [
      "[nltk_data] Downloading package stopwords to /usr/share/nltk_data...\n",
      "[nltk_data]   Package stopwords is already up-to-date!\n"
     ]
    },
    {
     "data": {
      "text/plain": [
       "True"
      ]
     },
     "execution_count": 17,
     "metadata": {},
     "output_type": "execute_result"
    }
   ],
   "source": [
    "import nltk\n",
    "\n",
    "nltk.download('stopwords')"
   ]
  },
  {
   "cell_type": "code",
   "execution_count": 18,
   "metadata": {
    "execution": {
     "iopub.execute_input": "2021-04-11T01:44:35.536629Z",
     "iopub.status.busy": "2021-04-11T01:44:35.536089Z",
     "iopub.status.idle": "2021-04-11T01:44:35.605107Z",
     "shell.execute_reply": "2021-04-11T01:44:35.604110Z"
    },
    "papermill": {
     "duration": 0.111255,
     "end_time": "2021-04-11T01:44:35.605230",
     "exception": false,
     "start_time": "2021-04-11T01:44:35.493975",
     "status": "completed"
    },
    "tags": []
   },
   "outputs": [],
   "source": [
    "from keras.layers import Embedding, LSTM, Dense, Dropout, Lambda, Flatten\n",
    "from keras.models import Sequential, load_model, model_from_config\n",
    "import keras.backend as K\n",
    "\n",
    "def get_model():\n",
    "    \"\"\"Define the model.\"\"\"\n",
    "    model = Sequential()\n",
    "    model.add(LSTM(300, dropout=0.4, recurrent_dropout=0.4, input_shape=[1, 300], return_sequences=True))\n",
    "    model.add(LSTM(64, recurrent_dropout=0.4))\n",
    "    model.add(Dropout(0.5))\n",
    "    model.add(Dense(1, activation='relu'))\n",
    "\n",
    "    model.compile(loss='mean_squared_error', optimizer='rmsprop', metrics=['accuracy','mae'])\n",
    "    model.summary()\n",
    "\n",
    "    return model"
   ]
  },
  {
   "cell_type": "code",
   "execution_count": 19,
   "metadata": {
    "execution": {
     "iopub.execute_input": "2021-04-11T01:44:35.677657Z",
     "iopub.status.busy": "2021-04-11T01:44:35.676990Z",
     "iopub.status.idle": "2021-04-11T01:44:35.679362Z",
     "shell.execute_reply": "2021-04-11T01:44:35.679884Z"
    },
    "papermill": {
     "duration": 0.040215,
     "end_time": "2021-04-11T01:44:35.679990",
     "exception": false,
     "start_time": "2021-04-11T01:44:35.639775",
     "status": "completed"
    },
    "tags": []
   },
   "outputs": [],
   "source": [
    "X=df\n",
    "y = X['score']"
   ]
  },
  {
   "cell_type": "code",
   "execution_count": 20,
   "metadata": {
    "execution": {
     "iopub.execute_input": "2021-04-11T01:44:35.769655Z",
     "iopub.status.busy": "2021-04-11T01:44:35.768591Z",
     "iopub.status.idle": "2021-04-11T01:56:14.007727Z",
     "shell.execute_reply": "2021-04-11T01:56:14.006737Z"
    },
    "papermill": {
     "duration": 698.293723,
     "end_time": "2021-04-11T01:56:14.007833",
     "exception": false,
     "start_time": "2021-04-11T01:44:35.714110",
     "status": "completed"
    },
    "tags": []
   },
   "outputs": [
    {
     "name": "stdout",
     "output_type": "stream",
     "text": [
      "\n",
      "--------Fold 1--------\n",
      "\n",
      "Training Word2Vec Model...\n",
      "Model: \"sequential\"\n",
      "_________________________________________________________________\n",
      "Layer (type)                 Output Shape              Param #   \n",
      "=================================================================\n",
      "lstm (LSTM)                  (None, 1, 300)            721200    \n",
      "_________________________________________________________________\n",
      "lstm_1 (LSTM)                (None, 64)                93440     \n",
      "_________________________________________________________________\n",
      "dropout (Dropout)            (None, 64)                0         \n",
      "_________________________________________________________________\n",
      "dense (Dense)                (None, 1)                 65        \n",
      "=================================================================\n",
      "Total params: 814,705\n",
      "Trainable params: 814,705\n",
      "Non-trainable params: 0\n",
      "_________________________________________________________________\n",
      "Epoch 1/50\n",
      "130/130 [==============================] - 2s 13ms/step - loss: 4.5420 - accuracy: 0.1523 - mae: 1.5096\n",
      "Epoch 2/50\n",
      "130/130 [==============================] - 2s 13ms/step - loss: 2.0696 - accuracy: 0.1647 - mae: 1.0985\n",
      "Epoch 3/50\n",
      "130/130 [==============================] - 2s 13ms/step - loss: 1.9530 - accuracy: 0.1651 - mae: 1.0629\n",
      "Epoch 4/50\n",
      "130/130 [==============================] - 2s 13ms/step - loss: 1.8701 - accuracy: 0.1670 - mae: 1.0357\n",
      "Epoch 5/50\n",
      "130/130 [==============================] - 2s 14ms/step - loss: 1.8690 - accuracy: 0.1674 - mae: 1.0295\n",
      "Epoch 6/50\n",
      "130/130 [==============================] - 2s 14ms/step - loss: 1.8107 - accuracy: 0.1676 - mae: 1.0162\n",
      "Epoch 7/50\n",
      "130/130 [==============================] - 2s 15ms/step - loss: 1.7874 - accuracy: 0.1677 - mae: 1.0028\n",
      "Epoch 8/50\n",
      "130/130 [==============================] - 2s 13ms/step - loss: 1.7410 - accuracy: 0.1677 - mae: 0.9903\n",
      "Epoch 9/50\n",
      "130/130 [==============================] - 2s 13ms/step - loss: 1.7207 - accuracy: 0.1677 - mae: 0.9842\n",
      "Epoch 10/50\n",
      "130/130 [==============================] - 2s 13ms/step - loss: 1.6476 - accuracy: 0.1677 - mae: 0.9641\n",
      "Epoch 11/50\n",
      "130/130 [==============================] - 2s 13ms/step - loss: 1.6086 - accuracy: 0.1677 - mae: 0.9531\n",
      "Epoch 12/50\n",
      "130/130 [==============================] - 2s 13ms/step - loss: 1.5905 - accuracy: 0.1677 - mae: 0.9395\n",
      "Epoch 13/50\n",
      "130/130 [==============================] - 2s 15ms/step - loss: 1.5271 - accuracy: 0.1677 - mae: 0.9324\n",
      "Epoch 14/50\n",
      "130/130 [==============================] - 2s 13ms/step - loss: 1.4583 - accuracy: 0.1677 - mae: 0.9109\n",
      "Epoch 15/50\n",
      "130/130 [==============================] - 2s 18ms/step - loss: 1.4120 - accuracy: 0.1676 - mae: 0.8951\n",
      "Epoch 16/50\n",
      "130/130 [==============================] - 2s 14ms/step - loss: 1.3489 - accuracy: 0.1677 - mae: 0.8801\n",
      "Epoch 17/50\n",
      "130/130 [==============================] - 2s 13ms/step - loss: 1.2763 - accuracy: 0.1677 - mae: 0.8581\n",
      "Epoch 18/50\n",
      "130/130 [==============================] - 2s 15ms/step - loss: 1.2835 - accuracy: 0.1677 - mae: 0.8622\n",
      "Epoch 19/50\n",
      "130/130 [==============================] - 2s 15ms/step - loss: 1.2377 - accuracy: 0.1676 - mae: 0.8456\n",
      "Epoch 20/50\n",
      "130/130 [==============================] - 2s 13ms/step - loss: 1.2315 - accuracy: 0.1677 - mae: 0.8424\n",
      "Epoch 21/50\n",
      "130/130 [==============================] - 2s 13ms/step - loss: 1.1945 - accuracy: 0.1677 - mae: 0.8331\n",
      "Epoch 22/50\n",
      "130/130 [==============================] - 2s 13ms/step - loss: 1.1971 - accuracy: 0.1677 - mae: 0.8227\n",
      "Epoch 23/50\n",
      "130/130 [==============================] - 2s 13ms/step - loss: 1.1999 - accuracy: 0.1676 - mae: 0.8273\n",
      "Epoch 24/50\n",
      "130/130 [==============================] - 2s 13ms/step - loss: 1.1627 - accuracy: 0.1677 - mae: 0.8204\n",
      "Epoch 25/50\n",
      "130/130 [==============================] - 2s 16ms/step - loss: 1.1669 - accuracy: 0.1677 - mae: 0.8182\n",
      "Epoch 26/50\n",
      "130/130 [==============================] - 2s 13ms/step - loss: 1.1316 - accuracy: 0.1677 - mae: 0.8092\n",
      "Epoch 27/50\n",
      "130/130 [==============================] - 2s 13ms/step - loss: 1.0934 - accuracy: 0.1677 - mae: 0.7895\n",
      "Epoch 28/50\n",
      "130/130 [==============================] - 2s 13ms/step - loss: 1.0878 - accuracy: 0.1677 - mae: 0.7890\n",
      "Epoch 29/50\n",
      "130/130 [==============================] - 2s 13ms/step - loss: 1.0537 - accuracy: 0.1676 - mae: 0.7798\n",
      "Epoch 30/50\n",
      "130/130 [==============================] - 2s 13ms/step - loss: 1.0416 - accuracy: 0.1676 - mae: 0.7772\n",
      "Epoch 31/50\n",
      "130/130 [==============================] - 2s 15ms/step - loss: 1.0212 - accuracy: 0.1677 - mae: 0.7664\n",
      "Epoch 32/50\n",
      "130/130 [==============================] - 2s 16ms/step - loss: 1.0312 - accuracy: 0.1677 - mae: 0.7720\n",
      "Epoch 33/50\n",
      "130/130 [==============================] - 2s 18ms/step - loss: 1.0038 - accuracy: 0.1677 - mae: 0.7619\n",
      "Epoch 34/50\n",
      "130/130 [==============================] - 2s 14ms/step - loss: 0.9951 - accuracy: 0.1676 - mae: 0.7603\n",
      "Epoch 35/50\n",
      "130/130 [==============================] - 2s 14ms/step - loss: 1.0127 - accuracy: 0.1677 - mae: 0.7629\n",
      "Epoch 36/50\n",
      "130/130 [==============================] - 2s 16ms/step - loss: 0.9792 - accuracy: 0.1675 - mae: 0.7546\n",
      "Epoch 37/50\n",
      "130/130 [==============================] - 2s 13ms/step - loss: 0.9863 - accuracy: 0.1676 - mae: 0.7576\n",
      "Epoch 38/50\n",
      "130/130 [==============================] - 2s 14ms/step - loss: 0.9722 - accuracy: 0.1676 - mae: 0.7466\n",
      "Epoch 39/50\n",
      "130/130 [==============================] - 2s 14ms/step - loss: 0.9356 - accuracy: 0.1676 - mae: 0.7392\n",
      "Epoch 40/50\n",
      "130/130 [==============================] - 2s 14ms/step - loss: 0.9336 - accuracy: 0.1676 - mae: 0.7397\n",
      "Epoch 41/50\n",
      "130/130 [==============================] - 2s 13ms/step - loss: 0.9263 - accuracy: 0.1675 - mae: 0.7361\n",
      "Epoch 42/50\n",
      "130/130 [==============================] - 2s 16ms/step - loss: 0.9454 - accuracy: 0.1676 - mae: 0.7390\n",
      "Epoch 43/50\n",
      "130/130 [==============================] - 2s 13ms/step - loss: 0.9442 - accuracy: 0.1676 - mae: 0.7420\n",
      "Epoch 44/50\n",
      "130/130 [==============================] - 2s 13ms/step - loss: 0.9239 - accuracy: 0.1677 - mae: 0.7327\n",
      "Epoch 45/50\n",
      "130/130 [==============================] - 2s 13ms/step - loss: 0.9056 - accuracy: 0.1676 - mae: 0.7273\n",
      "Epoch 46/50\n",
      "130/130 [==============================] - 2s 13ms/step - loss: 0.9022 - accuracy: 0.1675 - mae: 0.7256\n",
      "Epoch 47/50\n",
      "130/130 [==============================] - 2s 13ms/step - loss: 0.8977 - accuracy: 0.1672 - mae: 0.7194\n",
      "Epoch 48/50\n",
      "130/130 [==============================] - 2s 17ms/step - loss: 0.9011 - accuracy: 0.1672 - mae: 0.7218\n",
      "Epoch 49/50\n",
      "130/130 [==============================] - 2s 15ms/step - loss: 0.8910 - accuracy: 0.1675 - mae: 0.7227\n",
      "Epoch 50/50\n",
      "130/130 [==============================] - 2s 17ms/step - loss: 0.8563 - accuracy: 0.1676 - mae: 0.7106\n",
      "acc Score: 0.45907990314769975\n",
      "Kappa Score: 0.9219645755865599\n",
      "\n",
      "--------Fold 2--------\n",
      "\n",
      "Training Word2Vec Model...\n",
      "Model: \"sequential_1\"\n",
      "_________________________________________________________________\n",
      "Layer (type)                 Output Shape              Param #   \n",
      "=================================================================\n",
      "lstm_2 (LSTM)                (None, 1, 300)            721200    \n",
      "_________________________________________________________________\n",
      "lstm_3 (LSTM)                (None, 64)                93440     \n",
      "_________________________________________________________________\n",
      "dropout_1 (Dropout)          (None, 64)                0         \n",
      "_________________________________________________________________\n",
      "dense_1 (Dense)              (None, 1)                 65        \n",
      "=================================================================\n",
      "Total params: 814,705\n",
      "Trainable params: 814,705\n",
      "Non-trainable params: 0\n",
      "_________________________________________________________________\n",
      "Epoch 1/50\n",
      "130/130 [==============================] - 2s 13ms/step - loss: 4.4890 - accuracy: 0.1526 - mae: 1.4931\n",
      "Epoch 2/50\n",
      "130/130 [==============================] - 2s 13ms/step - loss: 2.1702 - accuracy: 0.1651 - mae: 1.1075\n",
      "Epoch 3/50\n",
      "130/130 [==============================] - 2s 13ms/step - loss: 2.0367 - accuracy: 0.1671 - mae: 1.0809\n",
      "Epoch 4/50\n",
      "130/130 [==============================] - 2s 13ms/step - loss: 1.9299 - accuracy: 0.1681 - mae: 1.0436\n",
      "Epoch 5/50\n",
      "130/130 [==============================] - 2s 15ms/step - loss: 1.8933 - accuracy: 0.1692 - mae: 1.0320\n",
      "Epoch 6/50\n",
      "130/130 [==============================] - 2s 13ms/step - loss: 1.8586 - accuracy: 0.1697 - mae: 1.0219\n",
      "Epoch 7/50\n",
      "130/130 [==============================] - 2s 14ms/step - loss: 1.8444 - accuracy: 0.1697 - mae: 1.0105\n",
      "Epoch 8/50\n",
      "130/130 [==============================] - 2s 13ms/step - loss: 1.8033 - accuracy: 0.1695 - mae: 0.9999\n",
      "Epoch 9/50\n",
      "130/130 [==============================] - 2s 14ms/step - loss: 1.7704 - accuracy: 0.1697 - mae: 0.9926\n",
      "Epoch 10/50\n",
      "130/130 [==============================] - 2s 14ms/step - loss: 1.7633 - accuracy: 0.1695 - mae: 0.9837\n",
      "Epoch 11/50\n",
      "130/130 [==============================] - 3s 21ms/step - loss: 1.6931 - accuracy: 0.1697 - mae: 0.9717\n",
      "Epoch 12/50\n",
      "130/130 [==============================] - 2s 14ms/step - loss: 1.6739 - accuracy: 0.1697 - mae: 0.9614\n",
      "Epoch 13/50\n",
      "130/130 [==============================] - 2s 13ms/step - loss: 1.6617 - accuracy: 0.1695 - mae: 0.9591\n",
      "Epoch 14/50\n",
      "130/130 [==============================] - 2s 14ms/step - loss: 1.5827 - accuracy: 0.1697 - mae: 0.9391\n",
      "Epoch 15/50\n",
      "130/130 [==============================] - 2s 13ms/step - loss: 1.4738 - accuracy: 0.1694 - mae: 0.9121\n",
      "Epoch 16/50\n",
      "130/130 [==============================] - 3s 21ms/step - loss: 1.4399 - accuracy: 0.1695 - mae: 0.8974\n",
      "Epoch 17/50\n",
      "130/130 [==============================] - 2s 14ms/step - loss: 1.4012 - accuracy: 0.1697 - mae: 0.8856\n",
      "Epoch 18/50\n",
      "130/130 [==============================] - 2s 13ms/step - loss: 1.3683 - accuracy: 0.1695 - mae: 0.8741\n",
      "Epoch 19/50\n",
      "130/130 [==============================] - 2s 14ms/step - loss: 1.3599 - accuracy: 0.1694 - mae: 0.8771\n",
      "Epoch 20/50\n",
      "130/130 [==============================] - 2s 13ms/step - loss: 1.3119 - accuracy: 0.1697 - mae: 0.8607\n",
      "Epoch 21/50\n",
      "130/130 [==============================] - 2s 13ms/step - loss: 1.2656 - accuracy: 0.1697 - mae: 0.8463\n",
      "Epoch 22/50\n",
      "130/130 [==============================] - 2s 16ms/step - loss: 1.3053 - accuracy: 0.1695 - mae: 0.8567\n",
      "Epoch 23/50\n",
      "130/130 [==============================] - 2s 14ms/step - loss: 1.2778 - accuracy: 0.1695 - mae: 0.8403\n",
      "Epoch 24/50\n",
      "130/130 [==============================] - 2s 13ms/step - loss: 1.2617 - accuracy: 0.1695 - mae: 0.8427\n",
      "Epoch 25/50\n",
      "130/130 [==============================] - 2s 13ms/step - loss: 1.1900 - accuracy: 0.1697 - mae: 0.8216\n",
      "Epoch 26/50\n",
      "130/130 [==============================] - 2s 14ms/step - loss: 1.2139 - accuracy: 0.1695 - mae: 0.8258\n",
      "Epoch 27/50\n",
      "130/130 [==============================] - 2s 13ms/step - loss: 1.1817 - accuracy: 0.1697 - mae: 0.8178\n",
      "Epoch 28/50\n",
      "130/130 [==============================] - 3s 19ms/step - loss: 1.1569 - accuracy: 0.1695 - mae: 0.8107\n",
      "Epoch 29/50\n",
      "130/130 [==============================] - 2s 13ms/step - loss: 1.1590 - accuracy: 0.1697 - mae: 0.8060\n",
      "Epoch 30/50\n",
      "130/130 [==============================] - 2s 13ms/step - loss: 1.1231 - accuracy: 0.1697 - mae: 0.7986\n",
      "Epoch 31/50\n",
      "130/130 [==============================] - 2s 13ms/step - loss: 1.1304 - accuracy: 0.1694 - mae: 0.7966\n",
      "Epoch 32/50\n",
      "130/130 [==============================] - 2s 14ms/step - loss: 1.0728 - accuracy: 0.1695 - mae: 0.7813\n",
      "Epoch 33/50\n",
      "130/130 [==============================] - 3s 19ms/step - loss: 1.0787 - accuracy: 0.1695 - mae: 0.7864\n",
      "Epoch 34/50\n",
      "130/130 [==============================] - 2s 17ms/step - loss: 1.0742 - accuracy: 0.1697 - mae: 0.7797\n",
      "Epoch 35/50\n",
      "130/130 [==============================] - 2s 13ms/step - loss: 1.0345 - accuracy: 0.1695 - mae: 0.7744\n",
      "Epoch 36/50\n",
      "130/130 [==============================] - 2s 14ms/step - loss: 1.0652 - accuracy: 0.1697 - mae: 0.7758\n",
      "Epoch 37/50\n",
      "130/130 [==============================] - 2s 14ms/step - loss: 1.0228 - accuracy: 0.1697 - mae: 0.7674\n",
      "Epoch 38/50\n",
      "130/130 [==============================] - 2s 14ms/step - loss: 1.0121 - accuracy: 0.1697 - mae: 0.7646\n",
      "Epoch 39/50\n",
      "130/130 [==============================] - 2s 14ms/step - loss: 1.0230 - accuracy: 0.1695 - mae: 0.7637\n",
      "Epoch 40/50\n",
      "130/130 [==============================] - 2s 16ms/step - loss: 0.9874 - accuracy: 0.1697 - mae: 0.7525\n",
      "Epoch 41/50\n",
      "130/130 [==============================] - 2s 13ms/step - loss: 0.9933 - accuracy: 0.1697 - mae: 0.7530\n",
      "Epoch 42/50\n",
      "130/130 [==============================] - 2s 13ms/step - loss: 0.9807 - accuracy: 0.1697 - mae: 0.7523\n",
      "Epoch 43/50\n",
      "130/130 [==============================] - 2s 13ms/step - loss: 0.9402 - accuracy: 0.1694 - mae: 0.7381\n",
      "Epoch 44/50\n",
      "130/130 [==============================] - 2s 13ms/step - loss: 0.9546 - accuracy: 0.1692 - mae: 0.7416\n",
      "Epoch 45/50\n",
      "130/130 [==============================] - 2s 18ms/step - loss: 0.9454 - accuracy: 0.1695 - mae: 0.7419\n",
      "Epoch 46/50\n",
      "130/130 [==============================] - 2s 14ms/step - loss: 0.9294 - accuracy: 0.1697 - mae: 0.7341\n",
      "Epoch 47/50\n",
      "130/130 [==============================] - 2s 13ms/step - loss: 0.9235 - accuracy: 0.1695 - mae: 0.7289\n",
      "Epoch 48/50\n",
      "130/130 [==============================] - 2s 13ms/step - loss: 0.9536 - accuracy: 0.1697 - mae: 0.7351\n",
      "Epoch 49/50\n",
      "130/130 [==============================] - 2s 17ms/step - loss: 0.9499 - accuracy: 0.1695 - mae: 0.7371\n",
      "Epoch 50/50\n",
      "130/130 [==============================] - 2s 16ms/step - loss: 0.9295 - accuracy: 0.1694 - mae: 0.7250\n",
      "acc Score: 0.4450363196125908\n",
      "Kappa Score: 0.9185765196809988\n",
      "\n",
      "--------Fold 3--------\n",
      "\n",
      "Training Word2Vec Model...\n",
      "Model: \"sequential_2\"\n",
      "_________________________________________________________________\n",
      "Layer (type)                 Output Shape              Param #   \n",
      "=================================================================\n",
      "lstm_4 (LSTM)                (None, 1, 300)            721200    \n",
      "_________________________________________________________________\n",
      "lstm_5 (LSTM)                (None, 64)                93440     \n",
      "_________________________________________________________________\n",
      "dropout_2 (Dropout)          (None, 64)                0         \n",
      "_________________________________________________________________\n",
      "dense_2 (Dense)              (None, 1)                 65        \n",
      "=================================================================\n",
      "Total params: 814,705\n",
      "Trainable params: 814,705\n",
      "Non-trainable params: 0\n",
      "_________________________________________________________________\n",
      "Epoch 1/50\n",
      "130/130 [==============================] - 2s 14ms/step - loss: 4.4271 - accuracy: 0.1520 - mae: 1.4780\n",
      "Epoch 2/50\n",
      "130/130 [==============================] - 2s 15ms/step - loss: 2.1392 - accuracy: 0.1661 - mae: 1.1128\n",
      "Epoch 3/50\n",
      "130/130 [==============================] - 2s 13ms/step - loss: 2.0231 - accuracy: 0.1675 - mae: 1.0751\n",
      "Epoch 4/50\n",
      "130/130 [==============================] - 2s 13ms/step - loss: 1.9683 - accuracy: 0.1687 - mae: 1.0609\n",
      "Epoch 5/50\n",
      "130/130 [==============================] - 2s 13ms/step - loss: 1.9351 - accuracy: 0.1690 - mae: 1.0427\n",
      "Epoch 6/50\n",
      "130/130 [==============================] - 2s 17ms/step - loss: 1.8680 - accuracy: 0.1689 - mae: 1.0209\n",
      "Epoch 7/50\n",
      "130/130 [==============================] - 2s 13ms/step - loss: 1.8134 - accuracy: 0.1692 - mae: 1.0086\n",
      "Epoch 8/50\n",
      "130/130 [==============================] - 2s 16ms/step - loss: 1.8084 - accuracy: 0.1692 - mae: 1.0040\n",
      "Epoch 9/50\n",
      "130/130 [==============================] - 2s 13ms/step - loss: 1.7087 - accuracy: 0.1692 - mae: 0.9802\n",
      "Epoch 10/50\n",
      "130/130 [==============================] - 2s 13ms/step - loss: 1.7861 - accuracy: 0.1692 - mae: 0.9930\n",
      "Epoch 11/50\n",
      "130/130 [==============================] - 2s 13ms/step - loss: 1.6763 - accuracy: 0.1692 - mae: 0.9682\n",
      "Epoch 12/50\n",
      "130/130 [==============================] - 2s 14ms/step - loss: 1.6457 - accuracy: 0.1690 - mae: 0.9581\n",
      "Epoch 13/50\n",
      "130/130 [==============================] - 2s 13ms/step - loss: 1.5815 - accuracy: 0.1692 - mae: 0.9385\n",
      "Epoch 14/50\n",
      "130/130 [==============================] - 2s 16ms/step - loss: 1.5241 - accuracy: 0.1692 - mae: 0.9212\n",
      "Epoch 15/50\n",
      "130/130 [==============================] - 2s 13ms/step - loss: 1.5089 - accuracy: 0.1690 - mae: 0.9205\n",
      "Epoch 16/50\n",
      "130/130 [==============================] - 3s 19ms/step - loss: 1.4294 - accuracy: 0.1690 - mae: 0.8961\n",
      "Epoch 17/50\n",
      "130/130 [==============================] - 2s 17ms/step - loss: 1.3952 - accuracy: 0.1689 - mae: 0.8896\n",
      "Epoch 18/50\n",
      "130/130 [==============================] - 2s 13ms/step - loss: 1.3550 - accuracy: 0.1690 - mae: 0.8771\n",
      "Epoch 19/50\n",
      "130/130 [==============================] - 2s 16ms/step - loss: 1.2923 - accuracy: 0.1692 - mae: 0.8546\n",
      "Epoch 20/50\n",
      "130/130 [==============================] - 2s 13ms/step - loss: 1.2671 - accuracy: 0.1690 - mae: 0.8497\n",
      "Epoch 21/50\n",
      "130/130 [==============================] - 2s 13ms/step - loss: 1.2554 - accuracy: 0.1690 - mae: 0.8466\n",
      "Epoch 22/50\n",
      "130/130 [==============================] - 2s 18ms/step - loss: 1.2093 - accuracy: 0.1690 - mae: 0.8307\n",
      "Epoch 23/50\n",
      "130/130 [==============================] - 2s 14ms/step - loss: 1.1927 - accuracy: 0.1692 - mae: 0.8180\n",
      "Epoch 24/50\n",
      "130/130 [==============================] - 2s 14ms/step - loss: 1.1756 - accuracy: 0.1690 - mae: 0.8153\n",
      "Epoch 25/50\n",
      "130/130 [==============================] - 2s 16ms/step - loss: 1.1291 - accuracy: 0.1692 - mae: 0.7987\n",
      "Epoch 26/50\n",
      "130/130 [==============================] - 2s 13ms/step - loss: 1.1356 - accuracy: 0.1692 - mae: 0.8032\n",
      "Epoch 27/50\n",
      "130/130 [==============================] - 2s 13ms/step - loss: 1.1178 - accuracy: 0.1690 - mae: 0.7981\n",
      "Epoch 28/50\n",
      "130/130 [==============================] - 2s 13ms/step - loss: 1.1071 - accuracy: 0.1692 - mae: 0.7958\n",
      "Epoch 29/50\n",
      "130/130 [==============================] - 2s 13ms/step - loss: 1.0986 - accuracy: 0.1692 - mae: 0.7950\n",
      "Epoch 30/50\n",
      "130/130 [==============================] - 2s 13ms/step - loss: 1.0529 - accuracy: 0.1690 - mae: 0.7776\n",
      "Epoch 31/50\n",
      "130/130 [==============================] - 2s 16ms/step - loss: 1.0371 - accuracy: 0.1692 - mae: 0.7722\n",
      "Epoch 32/50\n",
      "130/130 [==============================] - 2s 13ms/step - loss: 1.0296 - accuracy: 0.1690 - mae: 0.7684\n",
      "Epoch 33/50\n",
      "130/130 [==============================] - 2s 15ms/step - loss: 1.0267 - accuracy: 0.1690 - mae: 0.7641\n",
      "Epoch 34/50\n",
      "130/130 [==============================] - 2s 18ms/step - loss: 1.0002 - accuracy: 0.1692 - mae: 0.7605\n",
      "Epoch 35/50\n",
      "130/130 [==============================] - 2s 17ms/step - loss: 0.9789 - accuracy: 0.1689 - mae: 0.7553\n",
      "Epoch 36/50\n",
      "130/130 [==============================] - 2s 15ms/step - loss: 0.9875 - accuracy: 0.1692 - mae: 0.7510\n",
      "Epoch 37/50\n",
      "130/130 [==============================] - 2s 14ms/step - loss: 1.0040 - accuracy: 0.1692 - mae: 0.7548\n",
      "Epoch 38/50\n",
      "130/130 [==============================] - 2s 13ms/step - loss: 1.0112 - accuracy: 0.1690 - mae: 0.7545\n",
      "Epoch 39/50\n",
      "130/130 [==============================] - 2s 16ms/step - loss: 0.9563 - accuracy: 0.1692 - mae: 0.7420\n",
      "Epoch 40/50\n",
      "130/130 [==============================] - 2s 13ms/step - loss: 0.9592 - accuracy: 0.1692 - mae: 0.7459\n",
      "Epoch 41/50\n",
      "130/130 [==============================] - 2s 13ms/step - loss: 0.9396 - accuracy: 0.1689 - mae: 0.7315\n",
      "Epoch 42/50\n",
      "130/130 [==============================] - 2s 15ms/step - loss: 0.9323 - accuracy: 0.1689 - mae: 0.7283\n",
      "Epoch 43/50\n",
      "130/130 [==============================] - 2s 13ms/step - loss: 0.9355 - accuracy: 0.1688 - mae: 0.7303\n",
      "Epoch 44/50\n",
      "130/130 [==============================] - 2s 14ms/step - loss: 0.9267 - accuracy: 0.1688 - mae: 0.7342\n",
      "Epoch 45/50\n",
      "130/130 [==============================] - 2s 13ms/step - loss: 0.9162 - accuracy: 0.1689 - mae: 0.7251\n",
      "Epoch 46/50\n",
      "130/130 [==============================] - 2s 13ms/step - loss: 0.9125 - accuracy: 0.1689 - mae: 0.7215\n",
      "Epoch 47/50\n",
      "130/130 [==============================] - 2s 13ms/step - loss: 0.9100 - accuracy: 0.1688 - mae: 0.7227\n",
      "Epoch 48/50\n",
      "130/130 [==============================] - 2s 13ms/step - loss: 0.9169 - accuracy: 0.1688 - mae: 0.7219\n",
      "Epoch 49/50\n",
      "130/130 [==============================] - 2s 16ms/step - loss: 0.8959 - accuracy: 0.1689 - mae: 0.7170\n",
      "Epoch 50/50\n",
      "130/130 [==============================] - 2s 13ms/step - loss: 0.8887 - accuracy: 0.1688 - mae: 0.7136\n",
      "acc Score: 0.4430992736077482\n",
      "Kappa Score: 0.913251431755879\n",
      "\n",
      "--------Fold 4--------\n",
      "\n",
      "Training Word2Vec Model...\n",
      "Model: \"sequential_3\"\n",
      "_________________________________________________________________\n",
      "Layer (type)                 Output Shape              Param #   \n",
      "=================================================================\n",
      "lstm_6 (LSTM)                (None, 1, 300)            721200    \n",
      "_________________________________________________________________\n",
      "lstm_7 (LSTM)                (None, 64)                93440     \n",
      "_________________________________________________________________\n",
      "dropout_3 (Dropout)          (None, 64)                0         \n",
      "_________________________________________________________________\n",
      "dense_3 (Dense)              (None, 1)                 65        \n",
      "=================================================================\n",
      "Total params: 814,705\n",
      "Trainable params: 814,705\n",
      "Non-trainable params: 0\n",
      "_________________________________________________________________\n",
      "Epoch 1/50\n",
      "130/130 [==============================] - 2s 13ms/step - loss: 4.3352 - accuracy: 0.1514 - mae: 1.4765\n",
      "Epoch 2/50\n",
      "130/130 [==============================] - 2s 13ms/step - loss: 2.1142 - accuracy: 0.1635 - mae: 1.1012\n",
      "Epoch 3/50\n",
      "130/130 [==============================] - 2s 14ms/step - loss: 1.9946 - accuracy: 0.1650 - mae: 1.0653\n",
      "Epoch 4/50\n",
      "130/130 [==============================] - 2s 13ms/step - loss: 1.9260 - accuracy: 0.1661 - mae: 1.0473\n",
      "Epoch 5/50\n",
      "130/130 [==============================] - 2s 16ms/step - loss: 1.8994 - accuracy: 0.1662 - mae: 1.0345\n",
      "Epoch 6/50\n",
      "130/130 [==============================] - 2s 13ms/step - loss: 1.8088 - accuracy: 0.1670 - mae: 1.0083\n",
      "Epoch 7/50\n",
      "130/130 [==============================] - 3s 22ms/step - loss: 1.8105 - accuracy: 0.1671 - mae: 1.0030\n",
      "Epoch 8/50\n",
      "130/130 [==============================] - 2s 16ms/step - loss: 1.8087 - accuracy: 0.1671 - mae: 0.9990\n",
      "Epoch 9/50\n",
      "130/130 [==============================] - 2s 14ms/step - loss: 1.7632 - accuracy: 0.1671 - mae: 0.9853\n",
      "Epoch 10/50\n",
      "130/130 [==============================] - 2s 15ms/step - loss: 1.7338 - accuracy: 0.1671 - mae: 0.9764\n",
      "Epoch 11/50\n",
      "130/130 [==============================] - 2s 13ms/step - loss: 1.7243 - accuracy: 0.1671 - mae: 0.9771\n",
      "Epoch 12/50\n",
      "130/130 [==============================] - 2s 13ms/step - loss: 1.7022 - accuracy: 0.1671 - mae: 0.9667\n",
      "Epoch 13/50\n",
      "130/130 [==============================] - 2s 14ms/step - loss: 1.6500 - accuracy: 0.1671 - mae: 0.9515\n",
      "Epoch 14/50\n",
      "130/130 [==============================] - 2s 14ms/step - loss: 1.5723 - accuracy: 0.1671 - mae: 0.9402\n",
      "Epoch 15/50\n",
      "130/130 [==============================] - 2s 14ms/step - loss: 1.5026 - accuracy: 0.1671 - mae: 0.9180\n",
      "Epoch 16/50\n",
      "130/130 [==============================] - 3s 21ms/step - loss: 1.4665 - accuracy: 0.1670 - mae: 0.9052\n",
      "Epoch 17/50\n",
      "130/130 [==============================] - 2s 13ms/step - loss: 1.4273 - accuracy: 0.1671 - mae: 0.8985\n",
      "Epoch 18/50\n",
      "130/130 [==============================] - 2s 13ms/step - loss: 1.3302 - accuracy: 0.1670 - mae: 0.8737\n",
      "Epoch 19/50\n",
      "130/130 [==============================] - 2s 14ms/step - loss: 1.3154 - accuracy: 0.1670 - mae: 0.8647\n",
      "Epoch 20/50\n",
      "130/130 [==============================] - 2s 14ms/step - loss: 1.3193 - accuracy: 0.1668 - mae: 0.8656\n",
      "Epoch 21/50\n",
      "130/130 [==============================] - 2s 14ms/step - loss: 1.3218 - accuracy: 0.1670 - mae: 0.8623\n",
      "Epoch 22/50\n",
      "130/130 [==============================] - 2s 15ms/step - loss: 1.2740 - accuracy: 0.1671 - mae: 0.8488\n",
      "Epoch 23/50\n",
      "130/130 [==============================] - 2s 13ms/step - loss: 1.2407 - accuracy: 0.1671 - mae: 0.8381\n",
      "Epoch 24/50\n",
      "130/130 [==============================] - 2s 16ms/step - loss: 1.2297 - accuracy: 0.1670 - mae: 0.8377\n",
      "Epoch 25/50\n",
      "130/130 [==============================] - 3s 25ms/step - loss: 1.1993 - accuracy: 0.1671 - mae: 0.8267\n",
      "Epoch 26/50\n",
      "130/130 [==============================] - 2s 13ms/step - loss: 1.1677 - accuracy: 0.1670 - mae: 0.8138\n",
      "Epoch 27/50\n",
      "130/130 [==============================] - 2s 15ms/step - loss: 1.1441 - accuracy: 0.1671 - mae: 0.8075\n",
      "Epoch 28/50\n",
      "130/130 [==============================] - 2s 13ms/step - loss: 1.1215 - accuracy: 0.1671 - mae: 0.8064\n",
      "Epoch 29/50\n",
      "130/130 [==============================] - 2s 13ms/step - loss: 1.0932 - accuracy: 0.1671 - mae: 0.7935\n",
      "Epoch 30/50\n",
      "130/130 [==============================] - 2s 14ms/step - loss: 1.1204 - accuracy: 0.1670 - mae: 0.7977\n",
      "Epoch 31/50\n",
      "130/130 [==============================] - 2s 13ms/step - loss: 1.0888 - accuracy: 0.1671 - mae: 0.7868\n",
      "Epoch 32/50\n",
      "130/130 [==============================] - 2s 13ms/step - loss: 1.0402 - accuracy: 0.1671 - mae: 0.7786\n",
      "Epoch 33/50\n",
      "130/130 [==============================] - 3s 20ms/step - loss: 1.0573 - accuracy: 0.1671 - mae: 0.7805\n",
      "Epoch 34/50\n",
      "130/130 [==============================] - 2s 13ms/step - loss: 1.0498 - accuracy: 0.1670 - mae: 0.7710\n",
      "Epoch 35/50\n",
      "130/130 [==============================] - 2s 14ms/step - loss: 1.0282 - accuracy: 0.1671 - mae: 0.7716\n",
      "Epoch 36/50\n",
      "130/130 [==============================] - 2s 13ms/step - loss: 1.0070 - accuracy: 0.1670 - mae: 0.7635\n",
      "Epoch 37/50\n",
      "130/130 [==============================] - 2s 13ms/step - loss: 0.9985 - accuracy: 0.1671 - mae: 0.7559\n",
      "Epoch 38/50\n",
      "130/130 [==============================] - 2s 13ms/step - loss: 0.9764 - accuracy: 0.1671 - mae: 0.7534\n",
      "Epoch 39/50\n",
      "130/130 [==============================] - 2s 16ms/step - loss: 0.9931 - accuracy: 0.1671 - mae: 0.7575\n",
      "Epoch 40/50\n",
      "130/130 [==============================] - 2s 13ms/step - loss: 0.9508 - accuracy: 0.1668 - mae: 0.7441\n",
      "Epoch 41/50\n",
      "130/130 [==============================] - 2s 13ms/step - loss: 0.9854 - accuracy: 0.1670 - mae: 0.7556\n",
      "Epoch 42/50\n",
      "130/130 [==============================] - 3s 21ms/step - loss: 0.9581 - accuracy: 0.1671 - mae: 0.7377\n",
      "Epoch 43/50\n",
      "130/130 [==============================] - 3s 22ms/step - loss: 0.9502 - accuracy: 0.1668 - mae: 0.7416\n",
      "Epoch 44/50\n",
      "130/130 [==============================] - 2s 16ms/step - loss: 0.9288 - accuracy: 0.1670 - mae: 0.7309\n",
      "Epoch 45/50\n",
      "130/130 [==============================] - 2s 13ms/step - loss: 0.9472 - accuracy: 0.1668 - mae: 0.7397\n",
      "Epoch 46/50\n",
      "130/130 [==============================] - 2s 13ms/step - loss: 0.9607 - accuracy: 0.1671 - mae: 0.7402\n",
      "Epoch 47/50\n",
      "130/130 [==============================] - 2s 13ms/step - loss: 0.9165 - accuracy: 0.1668 - mae: 0.7229\n",
      "Epoch 48/50\n",
      "130/130 [==============================] - 2s 13ms/step - loss: 0.9132 - accuracy: 0.1670 - mae: 0.7260\n",
      "Epoch 49/50\n",
      "130/130 [==============================] - 2s 13ms/step - loss: 0.9192 - accuracy: 0.1667 - mae: 0.7294\n",
      "Epoch 50/50\n",
      "130/130 [==============================] - 2s 18ms/step - loss: 0.8881 - accuracy: 0.1668 - mae: 0.7183\n",
      "acc Score: 0.4636627906976744\n",
      "Kappa Score: 0.92798065958484\n",
      "\n",
      "--------Fold 5--------\n",
      "\n",
      "Training Word2Vec Model...\n",
      "Model: \"sequential_4\"\n",
      "_________________________________________________________________\n",
      "Layer (type)                 Output Shape              Param #   \n",
      "=================================================================\n",
      "lstm_8 (LSTM)                (None, 1, 300)            721200    \n",
      "_________________________________________________________________\n",
      "lstm_9 (LSTM)                (None, 64)                93440     \n",
      "_________________________________________________________________\n",
      "dropout_4 (Dropout)          (None, 64)                0         \n",
      "_________________________________________________________________\n",
      "dense_4 (Dense)              (None, 1)                 65        \n",
      "=================================================================\n",
      "Total params: 814,705\n",
      "Trainable params: 814,705\n",
      "Non-trainable params: 0\n",
      "_________________________________________________________________\n",
      "Epoch 1/50\n",
      "130/130 [==============================] - 2s 13ms/step - loss: 4.5576 - accuracy: 0.1511 - mae: 1.5029\n",
      "Epoch 2/50\n",
      "130/130 [==============================] - 2s 14ms/step - loss: 2.2010 - accuracy: 0.1641 - mae: 1.1190\n",
      "Epoch 3/50\n",
      "130/130 [==============================] - 2s 14ms/step - loss: 2.0052 - accuracy: 0.1660 - mae: 1.0606\n",
      "Epoch 4/50\n",
      "130/130 [==============================] - 2s 14ms/step - loss: 1.9694 - accuracy: 0.1667 - mae: 1.0534\n",
      "Epoch 5/50\n",
      "130/130 [==============================] - 2s 13ms/step - loss: 1.8576 - accuracy: 0.1668 - mae: 1.0213\n",
      "Epoch 6/50\n",
      "130/130 [==============================] - 2s 15ms/step - loss: 1.9244 - accuracy: 0.1670 - mae: 1.0339\n",
      "Epoch 7/50\n",
      "130/130 [==============================] - 2s 16ms/step - loss: 1.8440 - accuracy: 0.1672 - mae: 1.0171\n",
      "Epoch 8/50\n",
      "130/130 [==============================] - 3s 22ms/step - loss: 1.7976 - accuracy: 0.1672 - mae: 0.9990\n",
      "Epoch 9/50\n",
      "130/130 [==============================] - 2s 16ms/step - loss: 1.7620 - accuracy: 0.1672 - mae: 0.9851\n",
      "Epoch 10/50\n",
      "130/130 [==============================] - 2s 13ms/step - loss: 1.7257 - accuracy: 0.1672 - mae: 0.9744\n",
      "Epoch 11/50\n",
      "130/130 [==============================] - 3s 20ms/step - loss: 1.7163 - accuracy: 0.1672 - mae: 0.9761\n",
      "Epoch 12/50\n",
      "130/130 [==============================] - 2s 13ms/step - loss: 1.6202 - accuracy: 0.1672 - mae: 0.9541\n",
      "Epoch 13/50\n",
      "130/130 [==============================] - 2s 13ms/step - loss: 1.5792 - accuracy: 0.1672 - mae: 0.9373\n",
      "Epoch 14/50\n",
      "130/130 [==============================] - 2s 13ms/step - loss: 1.5601 - accuracy: 0.1672 - mae: 0.9320\n",
      "Epoch 15/50\n",
      "130/130 [==============================] - 2s 13ms/step - loss: 1.4813 - accuracy: 0.1672 - mae: 0.9089\n",
      "Epoch 16/50\n",
      "130/130 [==============================] - 2s 15ms/step - loss: 1.4244 - accuracy: 0.1672 - mae: 0.8934\n",
      "Epoch 17/50\n",
      "130/130 [==============================] - 2s 14ms/step - loss: 1.3476 - accuracy: 0.1671 - mae: 0.8724\n",
      "Epoch 18/50\n",
      "130/130 [==============================] - 2s 13ms/step - loss: 1.3037 - accuracy: 0.1672 - mae: 0.8595\n",
      "Epoch 19/50\n",
      "130/130 [==============================] - 2s 14ms/step - loss: 1.2962 - accuracy: 0.1671 - mae: 0.8529\n",
      "Epoch 20/50\n",
      "130/130 [==============================] - 2s 13ms/step - loss: 1.2868 - accuracy: 0.1671 - mae: 0.8504\n",
      "Epoch 21/50\n",
      "130/130 [==============================] - 2s 13ms/step - loss: 1.2542 - accuracy: 0.1671 - mae: 0.8419\n",
      "Epoch 22/50\n",
      "130/130 [==============================] - 2s 14ms/step - loss: 1.2273 - accuracy: 0.1672 - mae: 0.8322\n",
      "Epoch 23/50\n",
      "130/130 [==============================] - 2s 15ms/step - loss: 1.2201 - accuracy: 0.1671 - mae: 0.8278\n",
      "Epoch 24/50\n",
      "130/130 [==============================] - 2s 13ms/step - loss: 1.1922 - accuracy: 0.1670 - mae: 0.8201\n",
      "Epoch 25/50\n",
      "130/130 [==============================] - 2s 15ms/step - loss: 1.1689 - accuracy: 0.1672 - mae: 0.8120\n",
      "Epoch 26/50\n",
      "130/130 [==============================] - 3s 25ms/step - loss: 1.1331 - accuracy: 0.1672 - mae: 0.8000\n",
      "Epoch 27/50\n",
      "130/130 [==============================] - 3s 22ms/step - loss: 1.1262 - accuracy: 0.1671 - mae: 0.7976\n",
      "Epoch 28/50\n",
      "130/130 [==============================] - 2s 15ms/step - loss: 1.1188 - accuracy: 0.1671 - mae: 0.7975\n",
      "Epoch 29/50\n",
      "130/130 [==============================] - 2s 13ms/step - loss: 1.0603 - accuracy: 0.1672 - mae: 0.7774\n",
      "Epoch 30/50\n",
      "130/130 [==============================] - 2s 13ms/step - loss: 1.0725 - accuracy: 0.1671 - mae: 0.7789\n",
      "Epoch 31/50\n",
      "130/130 [==============================] - 2s 14ms/step - loss: 1.0759 - accuracy: 0.1671 - mae: 0.7799\n",
      "Epoch 32/50\n",
      "130/130 [==============================] - 2s 14ms/step - loss: 1.0395 - accuracy: 0.1672 - mae: 0.7721\n",
      "Epoch 33/50\n",
      "130/130 [==============================] - 2s 16ms/step - loss: 1.0171 - accuracy: 0.1671 - mae: 0.7636\n",
      "Epoch 34/50\n",
      "130/130 [==============================] - 2s 14ms/step - loss: 1.0251 - accuracy: 0.1672 - mae: 0.7619\n",
      "Epoch 35/50\n",
      "130/130 [==============================] - 2s 13ms/step - loss: 0.9985 - accuracy: 0.1671 - mae: 0.7567\n",
      "Epoch 36/50\n",
      "130/130 [==============================] - 2s 14ms/step - loss: 1.0159 - accuracy: 0.1672 - mae: 0.7605\n",
      "Epoch 37/50\n",
      "130/130 [==============================] - 2s 13ms/step - loss: 1.0066 - accuracy: 0.1672 - mae: 0.7570\n",
      "Epoch 38/50\n",
      "130/130 [==============================] - 2s 13ms/step - loss: 0.9948 - accuracy: 0.1672 - mae: 0.7504\n",
      "Epoch 39/50\n",
      "130/130 [==============================] - 2s 16ms/step - loss: 0.9617 - accuracy: 0.1671 - mae: 0.7422\n",
      "Epoch 40/50\n",
      "130/130 [==============================] - 2s 13ms/step - loss: 0.9471 - accuracy: 0.1672 - mae: 0.7377\n",
      "Epoch 41/50\n",
      "130/130 [==============================] - 2s 13ms/step - loss: 0.9535 - accuracy: 0.1671 - mae: 0.7356\n",
      "Epoch 42/50\n",
      "130/130 [==============================] - 2s 13ms/step - loss: 0.9593 - accuracy: 0.1671 - mae: 0.7370\n",
      "Epoch 43/50\n",
      "130/130 [==============================] - 2s 19ms/step - loss: 0.9367 - accuracy: 0.1671 - mae: 0.7357\n",
      "Epoch 44/50\n",
      "130/130 [==============================] - 3s 26ms/step - loss: 0.9495 - accuracy: 0.1672 - mae: 0.7362\n",
      "Epoch 45/50\n",
      "130/130 [==============================] - 3s 23ms/step - loss: 0.9199 - accuracy: 0.1672 - mae: 0.7278\n",
      "Epoch 46/50\n",
      "130/130 [==============================] - 2s 13ms/step - loss: 0.9155 - accuracy: 0.1672 - mae: 0.7244\n",
      "Epoch 47/50\n",
      "130/130 [==============================] - 2s 13ms/step - loss: 0.8926 - accuracy: 0.1668 - mae: 0.7197\n",
      "Epoch 48/50\n",
      "130/130 [==============================] - 2s 13ms/step - loss: 0.9048 - accuracy: 0.1671 - mae: 0.7224\n",
      "Epoch 49/50\n",
      "130/130 [==============================] - 2s 15ms/step - loss: 0.9055 - accuracy: 0.1671 - mae: 0.7210\n",
      "Epoch 50/50\n",
      "130/130 [==============================] - 2s 13ms/step - loss: 0.8755 - accuracy: 0.1672 - mae: 0.7109\n",
      "acc Score: 0.4418604651162791\n",
      "Kappa Score: 0.926629357150113\n"
     ]
    }
   ],
   "source": [
    "from sklearn.model_selection import KFold\n",
    "from sklearn.linear_model import LinearRegression\n",
    "from sklearn.metrics import cohen_kappa_score\n",
    "\n",
    "cv = KFold(n_splits = 5, shuffle = True)\n",
    "results = []\n",
    "y_pred_list = []\n",
    "\n",
    "count = 1\n",
    "for traincv, testcv in cv.split(X):\n",
    "    print(\"\\n--------Fold {}--------\\n\".format(count))\n",
    "    X_test, X_train, y_test, y_train = X.iloc[testcv], X.iloc[traincv], y.iloc[testcv], y.iloc[traincv]\n",
    "    \n",
    "    train_essays = X_train['essay']\n",
    "    test_essays = X_test['essay']\n",
    "    \n",
    "    sentences = []\n",
    "    \n",
    "    for essay in train_essays:\n",
    "            # Obtaining all sentences from the training essays.\n",
    "            sentences += essay_to_sentences(essay, remove_stopwords = True)\n",
    "            \n",
    "    # Initializing variables for word2vec model.\n",
    "    num_features = 300 \n",
    "    min_word_count = 40\n",
    "    num_workers = 4\n",
    "    context = 10\n",
    "    downsampling = 1e-3\n",
    "\n",
    "    print(\"Training Word2Vec Model...\")\n",
    "    model = Word2Vec(sentences, workers=num_workers, size=num_features, min_count = min_word_count, window = context, sample = downsampling)\n",
    "\n",
    "    model.init_sims(replace=True)\n",
    "    model.wv.save_word2vec_format('word2vecmodel.bin', binary=True)\n",
    "\n",
    "    clean_train_essays = []\n",
    "    \n",
    "    # Generate training and testing data word vectors.\n",
    "    for essay_v in train_essays:\n",
    "        clean_train_essays.append(essay_to_wordlist(essay_v, remove_stopwords=True))\n",
    "    trainDataVecs = getAvgFeatureVecs(clean_train_essays, model, num_features)\n",
    "    \n",
    "    clean_test_essays = []\n",
    "    for essay_v in test_essays:\n",
    "        clean_test_essays.append(essay_to_wordlist( essay_v, remove_stopwords=True ))\n",
    "    testDataVecs = getAvgFeatureVecs( clean_test_essays, model, num_features )\n",
    "    \n",
    "    trainDataVecs = np.array(trainDataVecs)\n",
    "    testDataVecs = np.array(testDataVecs)\n",
    "    # Reshaping train and test vectors to 3 dimensions. (1 represnts one timestep)\n",
    "    trainDataVecs = np.reshape(trainDataVecs, (trainDataVecs.shape[0], 1, trainDataVecs.shape[1]))\n",
    "    testDataVecs = np.reshape(testDataVecs, (testDataVecs.shape[0], 1, testDataVecs.shape[1]))\n",
    "    \n",
    "    lstm_model = get_model()\n",
    "    lstm_model.fit(trainDataVecs, y_train, batch_size=64, epochs=50)\n",
    "    #lstm_model.load_weights('./model_weights/final_lstm.h5')\n",
    "    y_pred = lstm_model.predict(testDataVecs)\n",
    "    \n",
    "    # Save any one of the 5 models.\n",
    "    if count == 5:\n",
    "         lstm_model.save('./final_lstm.h5')\n",
    "    \n",
    "    # Round y_pred to the nearest integer.\n",
    "    y_pred = np.around(y_pred)\n",
    "    \n",
    "    # Evaluate the model on the evaluation metric. \"Quadratic mean averaged Kappa\"\n",
    "    result = cohen_kappa_score(y_test.values,y_pred,weights='quadratic')\n",
    "    from sklearn.metrics import accuracy_score\n",
    "    acc = accuracy_score(y_test.values,y_pred)\n",
    "    print(\"acc Score: {}\".format(acc))\n",
    "    print(\"Kappa Score: {}\".format(result))\n",
    "    results.append(result)\n",
    "\n",
    "    count += 1\n"
   ]
  },
  {
   "cell_type": "code",
   "execution_count": 21,
   "metadata": {
    "execution": {
     "iopub.execute_input": "2021-04-11T01:56:18.994954Z",
     "iopub.status.busy": "2021-04-11T01:56:18.994145Z",
     "iopub.status.idle": "2021-04-11T01:56:18.996933Z",
     "shell.execute_reply": "2021-04-11T01:56:18.996486Z"
    },
    "papermill": {
     "duration": 2.49104,
     "end_time": "2021-04-11T01:56:18.997029",
     "exception": false,
     "start_time": "2021-04-11T01:56:16.505989",
     "status": "completed"
    },
    "tags": []
   },
   "outputs": [],
   "source": [
    "#"
   ]
  },
  {
   "cell_type": "code",
   "execution_count": 22,
   "metadata": {
    "execution": {
     "iopub.execute_input": "2021-04-11T01:56:24.229113Z",
     "iopub.status.busy": "2021-04-11T01:56:24.227758Z",
     "iopub.status.idle": "2021-04-11T01:56:24.231837Z",
     "shell.execute_reply": "2021-04-11T01:56:24.231366Z"
    },
    "papermill": {
     "duration": 2.712954,
     "end_time": "2021-04-11T01:56:24.232011",
     "exception": false,
     "start_time": "2021-04-11T01:56:21.519057",
     "status": "completed"
    },
    "tags": []
   },
   "outputs": [
    {
     "name": "stdout",
     "output_type": "stream",
     "text": [
      "Average Kappa score after a 5-fold cross validation:  0.9217\n"
     ]
    }
   ],
   "source": [
    "print(\"Average Kappa score after a 5-fold cross validation: \",np.around(np.array(results).mean(),decimals=4))"
   ]
  },
  {
   "cell_type": "code",
   "execution_count": 23,
   "metadata": {
    "execution": {
     "iopub.execute_input": "2021-04-11T01:56:29.198087Z",
     "iopub.status.busy": "2021-04-11T01:56:29.197553Z",
     "iopub.status.idle": "2021-04-11T01:56:29.211532Z",
     "shell.execute_reply": "2021-04-11T01:56:29.212036Z"
    },
    "papermill": {
     "duration": 2.513621,
     "end_time": "2021-04-11T01:56:29.212152",
     "exception": false,
     "start_time": "2021-04-11T01:56:26.698531",
     "status": "completed"
    },
    "tags": []
   },
   "outputs": [
    {
     "data": {
      "text/html": [
       "<div>\n",
       "<style scoped>\n",
       "    .dataframe tbody tr th:only-of-type {\n",
       "        vertical-align: middle;\n",
       "    }\n",
       "\n",
       "    .dataframe tbody tr th {\n",
       "        vertical-align: top;\n",
       "    }\n",
       "\n",
       "    .dataframe thead th {\n",
       "        text-align: right;\n",
       "    }\n",
       "</style>\n",
       "<table border=\"1\" class=\"dataframe\">\n",
       "  <thead>\n",
       "    <tr style=\"text-align: right;\">\n",
       "      <th></th>\n",
       "      <th>essay</th>\n",
       "    </tr>\n",
       "  </thead>\n",
       "  <tbody>\n",
       "    <tr>\n",
       "      <th>0</th>\n",
       "      <td>Dear@CAPS1 @CAPS2, I believe that using comput...</td>\n",
       "    </tr>\n",
       "  </tbody>\n",
       "</table>\n",
       "</div>"
      ],
      "text/plain": [
       "                                               essay\n",
       "0  Dear@CAPS1 @CAPS2, I believe that using comput..."
      ]
     },
     "execution_count": 23,
     "metadata": {},
     "output_type": "execute_result"
    }
   ],
   "source": [
    "demo = [\"Dear@CAPS1 @CAPS2, I believe that using computers will benefit us in many ways like talking and becoming friends will others through websites like facebook and mysace. Using computers can help us find coordibates, locations, and able ourselfs to millions of information. Also computers will benefit us by helping with jobs as in planning a house plan and typing a @NUM1 page report for one of our jobs in less than writing it. Now lets go into the wonder world of technology. Using a computer will help us in life by talking or making friends on line. Many people have myspace, facebooks, aim, these all benefit us by having conversations with one another. Many people believe computers are bad but how can you make friends if you can never talk to them? I am very fortunate for having a computer that can help with not only school work but my social life and how I make friends. Computers help us with finding our locations, coordibates and millions of information online. If we didn't go on the internet a lot we wouldn't know how to go onto websites that @MONTH1 help us with locations and coordinates like @LOCATION1. Would you rather use a computer or be in @LOCATION3. When your supposed to be vacationing in @LOCATION2. Million of information is found on the internet. You can as almost every question and a computer will have it. Would you rather easily draw up a house plan on the computers or take @NUM1 hours doing one by hand with ugly erazer marks all over it, you are garrenteed that to find a job with a drawing like that. Also when appling for a job many workers must write very long papers like a @NUM3 word essay on why this job fits you the most, and many people I know don't like writing @NUM3 words non-stopp for hours when it could take them I hav an a computer. That is why computers we needed a lot now adays. I hope this essay has impacted your descion on computers because they are great machines to work with. The other day I showed my mom how to use a computer and she said it was the greatest invention sense sliced bread! Now go out and buy a computer to help you chat online with friends, find locations and millions of information on one click of the button and help your self with getting a job with neat, prepared, printed work that your boss will love.\"]\n",
    "demo_df = pd.DataFrame(demo,columns=['essay'])\n",
    "demo_df.head()"
   ]
  },
  {
   "cell_type": "code",
   "execution_count": 24,
   "metadata": {
    "execution": {
     "iopub.execute_input": "2021-04-11T01:56:34.891297Z",
     "iopub.status.busy": "2021-04-11T01:56:34.890519Z",
     "iopub.status.idle": "2021-04-11T01:56:34.895269Z",
     "shell.execute_reply": "2021-04-11T01:56:34.895862Z"
    },
    "papermill": {
     "duration": 3.198066,
     "end_time": "2021-04-11T01:56:34.896016",
     "exception": false,
     "start_time": "2021-04-11T01:56:31.697950",
     "status": "completed"
    },
    "tags": []
   },
   "outputs": [
    {
     "data": {
      "text/plain": [
       "pandas.core.series.Series"
      ]
     },
     "execution_count": 24,
     "metadata": {},
     "output_type": "execute_result"
    }
   ],
   "source": [
    "type(demo_df['essay'])"
   ]
  },
  {
   "cell_type": "code",
   "execution_count": 25,
   "metadata": {
    "execution": {
     "iopub.execute_input": "2021-04-11T01:56:39.900573Z",
     "iopub.status.busy": "2021-04-11T01:56:39.898869Z",
     "iopub.status.idle": "2021-04-11T01:56:39.901173Z",
     "shell.execute_reply": "2021-04-11T01:56:39.901578Z"
    },
    "papermill": {
     "duration": 2.479198,
     "end_time": "2021-04-11T01:56:39.901688",
     "exception": false,
     "start_time": "2021-04-11T01:56:37.422490",
     "status": "completed"
    },
    "tags": []
   },
   "outputs": [],
   "source": [
    "content = \"Dear@CAPS1 @CAPS2, I believe that using computers will benefit us in many ways like talking and becoming friends will others through websites like facebook and mysace. Using computers can help us find coordibates, locations, and able ourselfs to millions of information. Also computers will benefit us by helping with jobs as in planning a house plan and typing a @NUM1 page report for one of our jobs in less than writing it. Now lets go into the wonder world of technology. Using a computer will help us in life by talking or making friends on line. Many people have myspace, facebooks, aim, these all benefit us by having conversations with one another. Many people believe computers are bad but how can you make friends if you can never talk to them? I am very fortunate for having a computer that can help with not only school work but my social life and how I make friends. Computers help us with finding our locations, coordibates and millions of information online. If we didn't go on the internet a lot we wouldn't know how to go onto websites that @MONTH1 help us with locations and coordinates like @LOCATION1. Would you rather use a computer or be in @LOCATION3. When your supposed to be vacationing in @LOCATION2. Million of information is found on the internet. You can as almost every question and a computer will have it. Would you rather easily draw up a house plan on the computers or take @NUM1 hours doing one by hand with ugly erazer marks all over it, you are garrenteed that to find a job with a drawing like that. Also when appling for a job many workers must write very long papers like a @NUM3 word essay on why this job fits you the most, and many people I know don't like writing @NUM3 words non-stopp for hours when it could take them I hav an a computer. That is why computers we needed a lot now adays. I hope this essay has impacted your descion on computers because they are great machines to work with. The other day I showed my mom how to use a computer and she said it was the greatest invention sense sliced bread! Now go out and buy a computer to help you chat online with friends, find locations and millions of information on one click of the button and help your self with getting a job with neat, prepared, printed work that your boss will love.\""
   ]
  },
  {
   "cell_type": "code",
   "execution_count": 26,
   "metadata": {
    "execution": {
     "iopub.execute_input": "2021-04-11T01:56:45.160628Z",
     "iopub.status.busy": "2021-04-11T01:56:45.159756Z",
     "iopub.status.idle": "2021-04-11T01:56:45.227770Z",
     "shell.execute_reply": "2021-04-11T01:56:45.226490Z"
    },
    "papermill": {
     "duration": 2.772014,
     "end_time": "2021-04-11T01:56:45.227872",
     "exception": false,
     "start_time": "2021-04-11T01:56:42.455858",
     "status": "completed"
    },
    "tags": []
   },
   "outputs": [],
   "source": [
    "from gensim.models import Word2Vec\n",
    "from gensim.models import KeyedVectors\n",
    "num_features = 300\n",
    "      \n",
    "model = KeyedVectors.load_word2vec_format( \"./word2vecmodel.bin\", binary=True)\n",
    "clean_test_essays = []\n",
    "clean_test_essays.append(essay_to_wordlist( content, remove_stopwords=True ))\n",
    "testDataVecs = getAvgFeatureVecs( clean_test_essays, model, num_features )\n",
    "testDataVecs = np.array(testDataVecs)\n",
    "testDataVecs = np.reshape(testDataVecs, (testDataVecs.shape[0], 1, testDataVecs.shape[1]))\n",
    "\n",
    "# lstm_model = get_model()\n",
    "lstm_model.load_weights(\"./final_lstm.h5\")\n",
    "preds = lstm_model.predict(testDataVecs)"
   ]
  },
  {
   "cell_type": "code",
   "execution_count": 27,
   "metadata": {
    "execution": {
     "iopub.execute_input": "2021-04-11T01:56:50.200308Z",
     "iopub.status.busy": "2021-04-11T01:56:50.199677Z",
     "iopub.status.idle": "2021-04-11T01:56:50.202437Z",
     "shell.execute_reply": "2021-04-11T01:56:50.202849Z"
    },
    "papermill": {
     "duration": 2.515062,
     "end_time": "2021-04-11T01:56:50.202961",
     "exception": false,
     "start_time": "2021-04-11T01:56:47.687899",
     "status": "completed"
    },
    "tags": []
   },
   "outputs": [
    {
     "data": {
      "text/plain": [
       "9"
      ]
     },
     "execution_count": 27,
     "metadata": {},
     "output_type": "execute_result"
    }
   ],
   "source": [
    "int(np.around(preds))"
   ]
  },
  {
   "cell_type": "code",
   "execution_count": 28,
   "metadata": {
    "execution": {
     "iopub.execute_input": "2021-04-11T01:56:55.229677Z",
     "iopub.status.busy": "2021-04-11T01:56:55.228904Z",
     "iopub.status.idle": "2021-04-11T01:56:55.231762Z",
     "shell.execute_reply": "2021-04-11T01:56:55.231291Z"
    },
    "papermill": {
     "duration": 2.540191,
     "end_time": "2021-04-11T01:56:55.231873",
     "exception": false,
     "start_time": "2021-04-11T01:56:52.691682",
     "status": "completed"
    },
    "tags": []
   },
   "outputs": [],
   "source": [
    "# val_essays = demo_df['essay']\n",
    "# sentences = []\n",
    "\n",
    "# for essay in val_essays:\n",
    "#         sentences += essay_to_sentences(essay, remove_stopwords = True)\n",
    "        \n",
    "\n",
    "# num_features = 300 \n",
    "# min_word_count = 40\n",
    "# num_workers = 4\n",
    "# context = 10\n",
    "# downsampling = 1e-3\n",
    "\n",
    "\n",
    "# model = Word2Vec(sentences, workers=num_workers, size=num_features, min_count = min_word_count, window = context, sample = downsampling)\n",
    "\n",
    "# model.init_sims(replace=True)\n",
    "\n",
    "# clean_train_essays = []\n",
    "\n",
    "# # Generate training and testing data word vectors.\n",
    "# for essay_v in val_essays:\n",
    "#     clean_train_essays.append(essay_to_wordlist(essay_v, remove_stopwords=True))\n",
    "# trainDataVecs = getAvgFeatureVecs(clean_train_essays, model, num_features)\n",
    "\n",
    "# trainDataVecs = np.array(trainDataVecs)\n",
    "# # Reshaping train and test vectors to 3 dimensions. (1 represnts one timestep)\n",
    "# trainDataVecs = np.reshape(trainDataVecs, (trainDataVecs.shape[0], 1, trainDataVecs.shape[1]))\n",
    "\n",
    "\n",
    "# y_pred = lstm_model.predict(trainDataVecs)\n",
    "\n",
    "\n",
    "\n",
    "# y_pred = np.around(y_pred)\n",
    "\n",
    "\n",
    "# # result = cohen_kappa_score(y_test.values,y_pred,weights='quadratic')\n",
    "# # print(\"Kappa Score: {}\".format(result))\n",
    "# print(y_pred)"
   ]
  },
  {
   "cell_type": "code",
   "execution_count": 29,
   "metadata": {
    "execution": {
     "iopub.execute_input": "2021-04-11T01:57:00.504647Z",
     "iopub.status.busy": "2021-04-11T01:57:00.503752Z",
     "iopub.status.idle": "2021-04-11T01:57:00.507259Z",
     "shell.execute_reply": "2021-04-11T01:57:00.507692Z"
    },
    "papermill": {
     "duration": 2.541567,
     "end_time": "2021-04-11T01:57:00.507804",
     "exception": false,
     "start_time": "2021-04-11T01:56:57.966237",
     "status": "completed"
    },
    "tags": []
   },
   "outputs": [
    {
     "data": {
      "text/plain": [
       "(2064,)"
      ]
     },
     "execution_count": 29,
     "metadata": {},
     "output_type": "execute_result"
    }
   ],
   "source": [
    "y_test.T.shape"
   ]
  },
  {
   "cell_type": "code",
   "execution_count": 30,
   "metadata": {
    "execution": {
     "iopub.execute_input": "2021-04-11T01:57:05.504675Z",
     "iopub.status.busy": "2021-04-11T01:57:05.504017Z",
     "iopub.status.idle": "2021-04-11T01:57:05.808233Z",
     "shell.execute_reply": "2021-04-11T01:57:05.807776Z"
    },
    "papermill": {
     "duration": 2.773798,
     "end_time": "2021-04-11T01:57:05.808334",
     "exception": false,
     "start_time": "2021-04-11T01:57:03.034536",
     "status": "completed"
    },
    "tags": []
   },
   "outputs": [
    {
     "ename": "ValueError",
     "evalue": "cannot reshape array of size 2064 into shape (2595,)",
     "output_type": "error",
     "traceback": [
      "\u001b[0;31m---------------------------------------------------------------------------\u001b[0m",
      "\u001b[0;31mValueError\u001b[0m                                Traceback (most recent call last)",
      "\u001b[0;32m<ipython-input-30-73cbcf22c0ce>\u001b[0m in \u001b[0;36m<module>\u001b[0;34m\u001b[0m\n\u001b[0;32m----> 1\u001b[0;31m \u001b[0my_pred1\u001b[0m \u001b[0;34m=\u001b[0m \u001b[0my_pred\u001b[0m\u001b[0;34m.\u001b[0m\u001b[0mT\u001b[0m\u001b[0;34m.\u001b[0m\u001b[0mreshape\u001b[0m\u001b[0;34m(\u001b[0m\u001b[0;36m2595\u001b[0m\u001b[0;34m,\u001b[0m\u001b[0;34m)\u001b[0m\u001b[0;34m\u001b[0m\u001b[0;34m\u001b[0m\u001b[0m\n\u001b[0m",
      "\u001b[0;31mValueError\u001b[0m: cannot reshape array of size 2064 into shape (2595,)"
     ]
    }
   ],
   "source": [
    "y_pred1 = y_pred.T.reshape(2595,)"
   ]
  },
  {
   "cell_type": "code",
   "execution_count": 31,
   "metadata": {
    "execution": {
     "iopub.execute_input": "2021-04-11T01:57:11.535479Z",
     "iopub.status.busy": "2021-04-11T01:57:11.534522Z",
     "iopub.status.idle": "2021-04-11T01:57:11.539050Z",
     "shell.execute_reply": "2021-04-11T01:57:11.538621Z"
    },
    "papermill": {
     "duration": 2.51824,
     "end_time": "2021-04-11T01:57:11.539138",
     "exception": false,
     "start_time": "2021-04-11T01:57:09.020898",
     "status": "completed"
    },
    "tags": []
   },
   "outputs": [
    {
     "ename": "NameError",
     "evalue": "name 'y_pred1' is not defined",
     "output_type": "error",
     "traceback": [
      "\u001b[0;31m---------------------------------------------------------------------------\u001b[0m",
      "\u001b[0;31mNameError\u001b[0m                                 Traceback (most recent call last)",
      "\u001b[0;32m<ipython-input-31-9681b501ad05>\u001b[0m in \u001b[0;36m<module>\u001b[0;34m\u001b[0m\n\u001b[0;32m----> 1\u001b[0;31m \u001b[0my_pred1\u001b[0m\u001b[0;34m\u001b[0m\u001b[0;34m\u001b[0m\u001b[0m\n\u001b[0m",
      "\u001b[0;31mNameError\u001b[0m: name 'y_pred1' is not defined"
     ]
    }
   ],
   "source": [
    "y_pred1"
   ]
  },
  {
   "cell_type": "code",
   "execution_count": 32,
   "metadata": {
    "execution": {
     "iopub.execute_input": "2021-04-11T01:57:16.551855Z",
     "iopub.status.busy": "2021-04-11T01:57:16.549470Z",
     "iopub.status.idle": "2021-04-11T01:57:16.563623Z",
     "shell.execute_reply": "2021-04-11T01:57:16.563189Z"
    },
    "papermill": {
     "duration": 2.559498,
     "end_time": "2021-04-11T01:57:16.563716",
     "exception": false,
     "start_time": "2021-04-11T01:57:14.004218",
     "status": "completed"
    },
    "tags": []
   },
   "outputs": [
    {
     "ename": "AttributeError",
     "evalue": "'Series' object has no attribute 'reshape'",
     "output_type": "error",
     "traceback": [
      "\u001b[0;31m---------------------------------------------------------------------------\u001b[0m",
      "\u001b[0;31mAttributeError\u001b[0m                            Traceback (most recent call last)",
      "\u001b[0;32m<ipython-input-32-33a6b63ccd56>\u001b[0m in \u001b[0;36m<module>\u001b[0;34m\u001b[0m\n\u001b[0;32m----> 1\u001b[0;31m \u001b[0my_test1\u001b[0m \u001b[0;34m=\u001b[0m \u001b[0my_test\u001b[0m\u001b[0;34m.\u001b[0m\u001b[0mT\u001b[0m\u001b[0;34m.\u001b[0m\u001b[0mreshape\u001b[0m\u001b[0;34m\u001b[0m\u001b[0;34m\u001b[0m\u001b[0m\n\u001b[0m",
      "\u001b[0;32m/opt/conda/lib/python3.7/site-packages/pandas/core/generic.py\u001b[0m in \u001b[0;36m__getattr__\u001b[0;34m(self, name)\u001b[0m\n\u001b[1;32m   5139\u001b[0m             \u001b[0;32mif\u001b[0m \u001b[0mself\u001b[0m\u001b[0;34m.\u001b[0m\u001b[0m_info_axis\u001b[0m\u001b[0;34m.\u001b[0m\u001b[0m_can_hold_identifiers_and_holds_name\u001b[0m\u001b[0;34m(\u001b[0m\u001b[0mname\u001b[0m\u001b[0;34m)\u001b[0m\u001b[0;34m:\u001b[0m\u001b[0;34m\u001b[0m\u001b[0;34m\u001b[0m\u001b[0m\n\u001b[1;32m   5140\u001b[0m                 \u001b[0;32mreturn\u001b[0m \u001b[0mself\u001b[0m\u001b[0;34m[\u001b[0m\u001b[0mname\u001b[0m\u001b[0;34m]\u001b[0m\u001b[0;34m\u001b[0m\u001b[0;34m\u001b[0m\u001b[0m\n\u001b[0;32m-> 5141\u001b[0;31m             \u001b[0;32mreturn\u001b[0m \u001b[0mobject\u001b[0m\u001b[0;34m.\u001b[0m\u001b[0m__getattribute__\u001b[0m\u001b[0;34m(\u001b[0m\u001b[0mself\u001b[0m\u001b[0;34m,\u001b[0m \u001b[0mname\u001b[0m\u001b[0;34m)\u001b[0m\u001b[0;34m\u001b[0m\u001b[0;34m\u001b[0m\u001b[0m\n\u001b[0m\u001b[1;32m   5142\u001b[0m \u001b[0;34m\u001b[0m\u001b[0m\n\u001b[1;32m   5143\u001b[0m     \u001b[0;32mdef\u001b[0m \u001b[0m__setattr__\u001b[0m\u001b[0;34m(\u001b[0m\u001b[0mself\u001b[0m\u001b[0;34m,\u001b[0m \u001b[0mname\u001b[0m\u001b[0;34m:\u001b[0m \u001b[0mstr\u001b[0m\u001b[0;34m,\u001b[0m \u001b[0mvalue\u001b[0m\u001b[0;34m)\u001b[0m \u001b[0;34m->\u001b[0m \u001b[0;32mNone\u001b[0m\u001b[0;34m:\u001b[0m\u001b[0;34m\u001b[0m\u001b[0;34m\u001b[0m\u001b[0m\n",
      "\u001b[0;31mAttributeError\u001b[0m: 'Series' object has no attribute 'reshape'"
     ]
    }
   ],
   "source": [
    "y_test1 = y_test.T.reshape"
   ]
  },
  {
   "cell_type": "code",
   "execution_count": 33,
   "metadata": {
    "execution": {
     "iopub.execute_input": "2021-04-11T01:57:21.768979Z",
     "iopub.status.busy": "2021-04-11T01:57:21.768153Z",
     "iopub.status.idle": "2021-04-11T01:57:21.771668Z",
     "shell.execute_reply": "2021-04-11T01:57:21.772229Z"
    },
    "papermill": {
     "duration": 2.506468,
     "end_time": "2021-04-11T01:57:21.772348",
     "exception": false,
     "start_time": "2021-04-11T01:57:19.265880",
     "status": "completed"
    },
    "tags": []
   },
   "outputs": [
    {
     "ename": "NameError",
     "evalue": "name 'y_pred1' is not defined",
     "output_type": "error",
     "traceback": [
      "\u001b[0;31m---------------------------------------------------------------------------\u001b[0m",
      "\u001b[0;31mNameError\u001b[0m                                 Traceback (most recent call last)",
      "\u001b[0;32m<ipython-input-33-9eb6e8562cba>\u001b[0m in \u001b[0;36m<module>\u001b[0;34m\u001b[0m\n\u001b[1;32m      1\u001b[0m \u001b[0;32mfrom\u001b[0m \u001b[0msklearn\u001b[0m\u001b[0;34m.\u001b[0m\u001b[0mmetrics\u001b[0m \u001b[0;32mimport\u001b[0m \u001b[0mconfusion_matrix\u001b[0m\u001b[0;34m\u001b[0m\u001b[0;34m\u001b[0m\u001b[0m\n\u001b[0;32m----> 2\u001b[0;31m \u001b[0mcm\u001b[0m \u001b[0;34m=\u001b[0m \u001b[0mconfusion_matrix\u001b[0m\u001b[0;34m(\u001b[0m\u001b[0my_test\u001b[0m\u001b[0;34m,\u001b[0m \u001b[0my_pred1\u001b[0m\u001b[0;34m)\u001b[0m\u001b[0;34m\u001b[0m\u001b[0;34m\u001b[0m\u001b[0m\n\u001b[0m",
      "\u001b[0;31mNameError\u001b[0m: name 'y_pred1' is not defined"
     ]
    }
   ],
   "source": [
    "from sklearn.metrics import confusion_matrix\n",
    "cm = confusion_matrix(y_test, y_pred1)"
   ]
  },
  {
   "cell_type": "code",
   "execution_count": 34,
   "metadata": {
    "execution": {
     "iopub.execute_input": "2021-04-11T01:57:27.015597Z",
     "iopub.status.busy": "2021-04-11T01:57:27.014687Z",
     "iopub.status.idle": "2021-04-11T01:57:27.140953Z",
     "shell.execute_reply": "2021-04-11T01:57:27.141429Z"
    },
    "papermill": {
     "duration": 2.86763,
     "end_time": "2021-04-11T01:57:27.141552",
     "exception": false,
     "start_time": "2021-04-11T01:57:24.273922",
     "status": "completed"
    },
    "tags": []
   },
   "outputs": [
    {
     "ename": "NameError",
     "evalue": "name 'sns' is not defined",
     "output_type": "error",
     "traceback": [
      "\u001b[0;31m---------------------------------------------------------------------------\u001b[0m",
      "\u001b[0;31mNameError\u001b[0m                                 Traceback (most recent call last)",
      "\u001b[0;32m<ipython-input-34-8945d2add3dc>\u001b[0m in \u001b[0;36m<module>\u001b[0;34m\u001b[0m\n\u001b[1;32m      1\u001b[0m \u001b[0;31m# Save a palette to a variable:\u001b[0m\u001b[0;34m\u001b[0m\u001b[0;34m\u001b[0m\u001b[0;34m\u001b[0m\u001b[0m\n\u001b[0;32m----> 2\u001b[0;31m \u001b[0mpalette\u001b[0m \u001b[0;34m=\u001b[0m \u001b[0msns\u001b[0m\u001b[0;34m.\u001b[0m\u001b[0mcolor_palette\u001b[0m\u001b[0;34m(\u001b[0m\u001b[0;34m\"bright\"\u001b[0m\u001b[0;34m)\u001b[0m\u001b[0;34m\u001b[0m\u001b[0;34m\u001b[0m\u001b[0m\n\u001b[0m\u001b[1;32m      3\u001b[0m \u001b[0;34m\u001b[0m\u001b[0m\n\u001b[1;32m      4\u001b[0m \u001b[0;31m# Use palplot and pass in the variable:\u001b[0m\u001b[0;34m\u001b[0m\u001b[0;34m\u001b[0m\u001b[0;34m\u001b[0m\u001b[0m\n\u001b[1;32m      5\u001b[0m \u001b[0msns\u001b[0m\u001b[0;34m.\u001b[0m\u001b[0mpalplot\u001b[0m\u001b[0;34m(\u001b[0m\u001b[0mpalette\u001b[0m\u001b[0;34m)\u001b[0m\u001b[0;34m\u001b[0m\u001b[0;34m\u001b[0m\u001b[0m\n",
      "\u001b[0;31mNameError\u001b[0m: name 'sns' is not defined"
     ]
    }
   ],
   "source": [
    "# Save a palette to a variable:\n",
    "palette = sns.color_palette(\"bright\")\n",
    " \n",
    "# Use palplot and pass in the variable:\n",
    "sns.palplot(palette)"
   ]
  },
  {
   "cell_type": "code",
   "execution_count": 35,
   "metadata": {
    "execution": {
     "iopub.execute_input": "2021-04-11T01:57:32.384856Z",
     "iopub.status.busy": "2021-04-11T01:57:32.383993Z",
     "iopub.status.idle": "2021-04-11T01:57:32.513499Z",
     "shell.execute_reply": "2021-04-11T01:57:32.512996Z"
    },
    "papermill": {
     "duration": 2.608509,
     "end_time": "2021-04-11T01:57:32.513607",
     "exception": false,
     "start_time": "2021-04-11T01:57:29.905098",
     "status": "completed"
    },
    "tags": []
   },
   "outputs": [
    {
     "ename": "NameError",
     "evalue": "name 'cm' is not defined",
     "output_type": "error",
     "traceback": [
      "\u001b[0;31m---------------------------------------------------------------------------\u001b[0m",
      "\u001b[0;31mNameError\u001b[0m                                 Traceback (most recent call last)",
      "\u001b[0;32m<ipython-input-35-640e12d794fe>\u001b[0m in \u001b[0;36m<module>\u001b[0;34m\u001b[0m\n\u001b[1;32m      2\u001b[0m \u001b[0;32mimport\u001b[0m \u001b[0mpandas\u001b[0m \u001b[0;32mas\u001b[0m \u001b[0mpd\u001b[0m\u001b[0;34m\u001b[0m\u001b[0;34m\u001b[0m\u001b[0m\n\u001b[1;32m      3\u001b[0m \u001b[0;32mimport\u001b[0m \u001b[0mmatplotlib\u001b[0m\u001b[0;34m.\u001b[0m\u001b[0mpyplot\u001b[0m \u001b[0;32mas\u001b[0m \u001b[0mplt\u001b[0m\u001b[0;34m\u001b[0m\u001b[0;34m\u001b[0m\u001b[0m\n\u001b[0;32m----> 4\u001b[0;31m \u001b[0marray\u001b[0m \u001b[0;34m=\u001b[0m\u001b[0mcm\u001b[0m\u001b[0;34m[\u001b[0m\u001b[0;36m0\u001b[0m\u001b[0;34m:\u001b[0m\u001b[0;36m10\u001b[0m\u001b[0;34m,\u001b[0m\u001b[0;36m0\u001b[0m\u001b[0;34m:\u001b[0m\u001b[0;36m10\u001b[0m\u001b[0;34m]\u001b[0m\u001b[0;34m\u001b[0m\u001b[0;34m\u001b[0m\u001b[0m\n\u001b[0m\u001b[1;32m      5\u001b[0m \u001b[0mdf_cm\u001b[0m \u001b[0;34m=\u001b[0m \u001b[0mpd\u001b[0m\u001b[0;34m.\u001b[0m\u001b[0mDataFrame\u001b[0m\u001b[0;34m(\u001b[0m\u001b[0marray\u001b[0m\u001b[0;34m)\u001b[0m\u001b[0;34m\u001b[0m\u001b[0;34m\u001b[0m\u001b[0m\n\u001b[1;32m      6\u001b[0m \u001b[0mplt\u001b[0m\u001b[0;34m.\u001b[0m\u001b[0mfigure\u001b[0m\u001b[0;34m(\u001b[0m\u001b[0mfigsize\u001b[0m \u001b[0;34m=\u001b[0m \u001b[0;34m(\u001b[0m\u001b[0;36m20\u001b[0m\u001b[0;34m,\u001b[0m\u001b[0;36m20\u001b[0m\u001b[0;34m)\u001b[0m\u001b[0;34m)\u001b[0m\u001b[0;34m\u001b[0m\u001b[0;34m\u001b[0m\u001b[0m\n",
      "\u001b[0;31mNameError\u001b[0m: name 'cm' is not defined"
     ]
    }
   ],
   "source": [
    "import seaborn as sns\n",
    "import pandas as pd\n",
    "import matplotlib.pyplot as plt\n",
    "array =cm[0:10,0:10]\n",
    "df_cm = pd.DataFrame(array)\n",
    "plt.figure(figsize = (20,20))\n",
    "sns.heatmap(df_cm,cmap = 'Blues',square=True, annot=True)"
   ]
  },
  {
   "cell_type": "code",
   "execution_count": 36,
   "metadata": {
    "execution": {
     "iopub.execute_input": "2021-04-11T01:57:37.516693Z",
     "iopub.status.busy": "2021-04-11T01:57:37.512585Z",
     "iopub.status.idle": "2021-04-11T01:57:37.520220Z",
     "shell.execute_reply": "2021-04-11T01:57:37.519705Z"
    },
    "papermill": {
     "duration": 2.53678,
     "end_time": "2021-04-11T01:57:37.520328",
     "exception": false,
     "start_time": "2021-04-11T01:57:34.983548",
     "status": "completed"
    },
    "tags": []
   },
   "outputs": [
    {
     "ename": "NameError",
     "evalue": "name 'cm' is not defined",
     "output_type": "error",
     "traceback": [
      "\u001b[0;31m---------------------------------------------------------------------------\u001b[0m",
      "\u001b[0;31mNameError\u001b[0m                                 Traceback (most recent call last)",
      "\u001b[0;32m<ipython-input-36-f0b86f683990>\u001b[0m in \u001b[0;36m<module>\u001b[0;34m\u001b[0m\n\u001b[0;32m----> 1\u001b[0;31m \u001b[0mcm\u001b[0m\u001b[0;34m[\u001b[0m\u001b[0;36m0\u001b[0m\u001b[0;34m:\u001b[0m\u001b[0;36m10\u001b[0m\u001b[0;34m,\u001b[0m\u001b[0;36m0\u001b[0m\u001b[0;34m:\u001b[0m\u001b[0;36m10\u001b[0m\u001b[0;34m]\u001b[0m\u001b[0;34m\u001b[0m\u001b[0;34m\u001b[0m\u001b[0m\n\u001b[0m",
      "\u001b[0;31mNameError\u001b[0m: name 'cm' is not defined"
     ]
    }
   ],
   "source": [
    "cm[0:10,0:10]"
   ]
  },
  {
   "cell_type": "code",
   "execution_count": 37,
   "metadata": {
    "execution": {
     "iopub.execute_input": "2021-04-11T01:57:43.219214Z",
     "iopub.status.busy": "2021-04-11T01:57:43.218557Z",
     "iopub.status.idle": "2021-04-11T01:57:43.221888Z",
     "shell.execute_reply": "2021-04-11T01:57:43.222521Z"
    },
    "papermill": {
     "duration": 2.739651,
     "end_time": "2021-04-11T01:57:43.222670",
     "exception": false,
     "start_time": "2021-04-11T01:57:40.483019",
     "status": "completed"
    },
    "tags": []
   },
   "outputs": [
    {
     "name": "stdout",
     "output_type": "stream",
     "text": [
      "(2, 5)\n",
      "[]\n"
     ]
    }
   ],
   "source": [
    "arr = np.array([[1, 2, 3, 4, 5], [6, 7, 8, 9, 10]])\n",
    "print(arr.shape)\n",
    "print(arr[1:4, 4:1])\n",
    "# print(arr)"
   ]
  },
  {
   "cell_type": "code",
   "execution_count": 38,
   "metadata": {
    "execution": {
     "iopub.execute_input": "2021-04-11T01:57:48.214068Z",
     "iopub.status.busy": "2021-04-11T01:57:48.213292Z",
     "iopub.status.idle": "2021-04-11T01:57:48.217224Z",
     "shell.execute_reply": "2021-04-11T01:57:48.216766Z"
    },
    "papermill": {
     "duration": 2.493674,
     "end_time": "2021-04-11T01:57:48.217318",
     "exception": false,
     "start_time": "2021-04-11T01:57:45.723644",
     "status": "completed"
    },
    "tags": []
   },
   "outputs": [
    {
     "ename": "NameError",
     "evalue": "name 'cm' is not defined",
     "output_type": "error",
     "traceback": [
      "\u001b[0;31m---------------------------------------------------------------------------\u001b[0m",
      "\u001b[0;31mNameError\u001b[0m                                 Traceback (most recent call last)",
      "\u001b[0;32m<ipython-input-38-2e8381c2e800>\u001b[0m in \u001b[0;36m<module>\u001b[0;34m\u001b[0m\n\u001b[0;32m----> 1\u001b[0;31m \u001b[0mcm\u001b[0m\u001b[0;34m.\u001b[0m\u001b[0mshape\u001b[0m\u001b[0;34m\u001b[0m\u001b[0;34m\u001b[0m\u001b[0m\n\u001b[0m",
      "\u001b[0;31mNameError\u001b[0m: name 'cm' is not defined"
     ]
    }
   ],
   "source": [
    "cm.shape"
   ]
  },
  {
   "cell_type": "code",
   "execution_count": 39,
   "metadata": {
    "execution": {
     "iopub.execute_input": "2021-04-11T01:57:53.505402Z",
     "iopub.status.busy": "2021-04-11T01:57:53.504535Z",
     "iopub.status.idle": "2021-04-11T01:57:53.508307Z",
     "shell.execute_reply": "2021-04-11T01:57:53.508759Z"
    },
    "papermill": {
     "duration": 2.50708,
     "end_time": "2021-04-11T01:57:53.508883",
     "exception": false,
     "start_time": "2021-04-11T01:57:51.001803",
     "status": "completed"
    },
    "tags": []
   },
   "outputs": [
    {
     "ename": "NameError",
     "evalue": "name 'cm' is not defined",
     "output_type": "error",
     "traceback": [
      "\u001b[0;31m---------------------------------------------------------------------------\u001b[0m",
      "\u001b[0;31mNameError\u001b[0m                                 Traceback (most recent call last)",
      "\u001b[0;32m<ipython-input-39-a51118d1d0ff>\u001b[0m in \u001b[0;36m<module>\u001b[0;34m\u001b[0m\n\u001b[0;32m----> 1\u001b[0;31m \u001b[0mcorr\u001b[0m \u001b[0;34m=\u001b[0m \u001b[0mcm\u001b[0m\u001b[0;34m\u001b[0m\u001b[0;34m\u001b[0m\u001b[0m\n\u001b[0m\u001b[1;32m      2\u001b[0m \u001b[0;34m\u001b[0m\u001b[0m\n\u001b[1;32m      3\u001b[0m \u001b[0mmask\u001b[0m \u001b[0;34m=\u001b[0m \u001b[0mnp\u001b[0m\u001b[0;34m.\u001b[0m\u001b[0mtriu\u001b[0m\u001b[0;34m(\u001b[0m\u001b[0mnp\u001b[0m\u001b[0;34m.\u001b[0m\u001b[0mones_like\u001b[0m\u001b[0;34m(\u001b[0m\u001b[0mcorr\u001b[0m\u001b[0;34m,\u001b[0m \u001b[0mdtype\u001b[0m\u001b[0;34m=\u001b[0m\u001b[0mnp\u001b[0m\u001b[0;34m.\u001b[0m\u001b[0mbool\u001b[0m\u001b[0;34m)\u001b[0m\u001b[0;34m)\u001b[0m\u001b[0;34m\u001b[0m\u001b[0;34m\u001b[0m\u001b[0m\n\u001b[1;32m      4\u001b[0m \u001b[0;34m\u001b[0m\u001b[0m\n\u001b[1;32m      5\u001b[0m \u001b[0;31m# Set up the matplotlib figure\u001b[0m\u001b[0;34m\u001b[0m\u001b[0;34m\u001b[0m\u001b[0;34m\u001b[0m\u001b[0m\n",
      "\u001b[0;31mNameError\u001b[0m: name 'cm' is not defined"
     ]
    }
   ],
   "source": [
    "corr = cm\n",
    "\n",
    "mask = np.triu(np.ones_like(corr, dtype=np.bool))\n",
    "\n",
    "# Set up the matplotlib figure\n",
    "f, ax = plt.subplots(figsize=(11, 9))\n",
    "\n",
    "# Generate a custom diverging colormap\n",
    "cmap = sns.diverging_palette(220, 10, as_cmap=True)\n",
    "\n",
    "# Draw the heatmap with the mask and correct aspect ratio\n",
    "sns.heatmap(corr, mask=mask, cmap=cmap, vmax=.3, center=0,\n",
    "            square=True, linewidths=.5, cbar_kws={\"shrink\": .5})\n",
    "plt.title('Fig:1',size=15)"
   ]
  },
  {
   "cell_type": "code",
   "execution_count": 40,
   "metadata": {
    "execution": {
     "iopub.execute_input": "2021-04-11T01:57:58.511451Z",
     "iopub.status.busy": "2021-04-11T01:57:58.510545Z",
     "iopub.status.idle": "2021-04-11T01:57:58.514724Z",
     "shell.execute_reply": "2021-04-11T01:57:58.514296Z"
    },
    "papermill": {
     "duration": 2.536714,
     "end_time": "2021-04-11T01:57:58.514817",
     "exception": false,
     "start_time": "2021-04-11T01:57:55.978103",
     "status": "completed"
    },
    "tags": []
   },
   "outputs": [
    {
     "ename": "NameError",
     "evalue": "name 'y_pred1' is not defined",
     "output_type": "error",
     "traceback": [
      "\u001b[0;31m---------------------------------------------------------------------------\u001b[0m",
      "\u001b[0;31mNameError\u001b[0m                                 Traceback (most recent call last)",
      "\u001b[0;32m<ipython-input-40-9538e810abcb>\u001b[0m in \u001b[0;36m<module>\u001b[0;34m\u001b[0m\n\u001b[1;32m      1\u001b[0m \u001b[0;32mfrom\u001b[0m \u001b[0msklearn\u001b[0m\u001b[0;34m.\u001b[0m\u001b[0mmetrics\u001b[0m \u001b[0;32mimport\u001b[0m \u001b[0mf1_score\u001b[0m\u001b[0;34m\u001b[0m\u001b[0;34m\u001b[0m\u001b[0m\n\u001b[0;32m----> 2\u001b[0;31m \u001b[0mf1_score\u001b[0m\u001b[0;34m(\u001b[0m\u001b[0my_test\u001b[0m\u001b[0;34m,\u001b[0m \u001b[0my_pred1\u001b[0m\u001b[0;34m,\u001b[0m \u001b[0maverage\u001b[0m\u001b[0;34m=\u001b[0m\u001b[0;34m'macro'\u001b[0m\u001b[0;34m)\u001b[0m\u001b[0;34m\u001b[0m\u001b[0;34m\u001b[0m\u001b[0m\n\u001b[0m",
      "\u001b[0;31mNameError\u001b[0m: name 'y_pred1' is not defined"
     ]
    }
   ],
   "source": [
    "from sklearn.metrics import f1_score\n",
    "f1_score(y_test, y_pred1, average='macro')"
   ]
  },
  {
   "cell_type": "code",
   "execution_count": 41,
   "metadata": {
    "execution": {
     "iopub.execute_input": "2021-04-11T01:58:03.818446Z",
     "iopub.status.busy": "2021-04-11T01:58:03.804049Z",
     "iopub.status.idle": "2021-04-11T01:58:03.822213Z",
     "shell.execute_reply": "2021-04-11T01:58:03.821662Z"
    },
    "papermill": {
     "duration": 2.813738,
     "end_time": "2021-04-11T01:58:03.822306",
     "exception": false,
     "start_time": "2021-04-11T01:58:01.008568",
     "status": "completed"
    },
    "tags": []
   },
   "outputs": [
    {
     "ename": "NameError",
     "evalue": "name 'y_pred1' is not defined",
     "output_type": "error",
     "traceback": [
      "\u001b[0;31m---------------------------------------------------------------------------\u001b[0m",
      "\u001b[0;31mNameError\u001b[0m                                 Traceback (most recent call last)",
      "\u001b[0;32m<ipython-input-41-812fc90635e6>\u001b[0m in \u001b[0;36m<module>\u001b[0;34m\u001b[0m\n\u001b[1;32m      1\u001b[0m \u001b[0;32mfrom\u001b[0m \u001b[0msklearn\u001b[0m\u001b[0;34m.\u001b[0m\u001b[0mmetrics\u001b[0m \u001b[0;32mimport\u001b[0m \u001b[0mclassification_report\u001b[0m\u001b[0;34m\u001b[0m\u001b[0;34m\u001b[0m\u001b[0m\n\u001b[0;32m----> 2\u001b[0;31m \u001b[0mcr\u001b[0m \u001b[0;34m=\u001b[0m \u001b[0mclassification_report\u001b[0m\u001b[0;34m(\u001b[0m\u001b[0my_test\u001b[0m\u001b[0;34m,\u001b[0m \u001b[0my_pred1\u001b[0m\u001b[0;34m)\u001b[0m\u001b[0;34m\u001b[0m\u001b[0;34m\u001b[0m\u001b[0m\n\u001b[0m",
      "\u001b[0;31mNameError\u001b[0m: name 'y_pred1' is not defined"
     ]
    }
   ],
   "source": [
    "from sklearn.metrics import classification_report\n",
    "cr = classification_report(y_test, y_pred1)"
   ]
  },
  {
   "cell_type": "code",
   "execution_count": 42,
   "metadata": {
    "execution": {
     "iopub.execute_input": "2021-04-11T01:58:08.786301Z",
     "iopub.status.busy": "2021-04-11T01:58:08.773971Z",
     "iopub.status.idle": "2021-04-11T01:58:08.790002Z",
     "shell.execute_reply": "2021-04-11T01:58:08.789475Z"
    },
    "papermill": {
     "duration": 2.496015,
     "end_time": "2021-04-11T01:58:08.790092",
     "exception": false,
     "start_time": "2021-04-11T01:58:06.294077",
     "status": "completed"
    },
    "tags": []
   },
   "outputs": [
    {
     "ename": "NameError",
     "evalue": "name 'cr' is not defined",
     "output_type": "error",
     "traceback": [
      "\u001b[0;31m---------------------------------------------------------------------------\u001b[0m",
      "\u001b[0;31mNameError\u001b[0m                                 Traceback (most recent call last)",
      "\u001b[0;32m<ipython-input-42-8ba7cce55800>\u001b[0m in \u001b[0;36m<module>\u001b[0;34m\u001b[0m\n\u001b[0;32m----> 1\u001b[0;31m \u001b[0mcr\u001b[0m\u001b[0;34m\u001b[0m\u001b[0;34m\u001b[0m\u001b[0m\n\u001b[0m",
      "\u001b[0;31mNameError\u001b[0m: name 'cr' is not defined"
     ]
    }
   ],
   "source": [
    "cr"
   ]
  },
  {
   "cell_type": "code",
   "execution_count": 43,
   "metadata": {
    "execution": {
     "iopub.execute_input": "2021-04-11T01:58:14.532561Z",
     "iopub.status.busy": "2021-04-11T01:58:14.531717Z",
     "iopub.status.idle": "2021-04-11T01:58:14.535690Z",
     "shell.execute_reply": "2021-04-11T01:58:14.535239Z"
    },
    "papermill": {
     "duration": 3.229399,
     "end_time": "2021-04-11T01:58:14.535779",
     "exception": false,
     "start_time": "2021-04-11T01:58:11.306380",
     "status": "completed"
    },
    "tags": []
   },
   "outputs": [
    {
     "ename": "NameError",
     "evalue": "name 'y_pred1' is not defined",
     "output_type": "error",
     "traceback": [
      "\u001b[0;31m---------------------------------------------------------------------------\u001b[0m",
      "\u001b[0;31mNameError\u001b[0m                                 Traceback (most recent call last)",
      "\u001b[0;32m<ipython-input-43-2f60a34b061e>\u001b[0m in \u001b[0;36m<module>\u001b[0;34m\u001b[0m\n\u001b[1;32m     24\u001b[0m                 ax=ax)\n\u001b[1;32m     25\u001b[0m \u001b[0;34m\u001b[0m\u001b[0m\n\u001b[0;32m---> 26\u001b[0;31m \u001b[0mplot_classification_report\u001b[0m\u001b[0;34m(\u001b[0m\u001b[0my_test\u001b[0m\u001b[0;34m,\u001b[0m \u001b[0my_pred1\u001b[0m\u001b[0;34m)\u001b[0m\u001b[0;34m\u001b[0m\u001b[0;34m\u001b[0m\u001b[0m\n\u001b[0m",
      "\u001b[0;31mNameError\u001b[0m: name 'y_pred1' is not defined"
     ]
    }
   ],
   "source": [
    "import seaborn as sns\n",
    "import numpy as np\n",
    "from sklearn.metrics import precision_recall_fscore_support\n",
    "import matplotlib.pyplot as plt\n",
    "\n",
    "def plot_classification_report(y_tru, y_prd, figsize=(10, 10), ax=None):\n",
    "\n",
    "    plt.figure(figsize=figsize)\n",
    "\n",
    "    xticks = ['precision', 'recall', 'f1-score', 'support']\n",
    "    yticks = list(np.unique(y_tru))\n",
    "    yticks += ['avg']\n",
    "\n",
    "    rep = np.array(precision_recall_fscore_support(y_tru, y_prd)).T\n",
    "    avg = np.mean(rep, axis=0)\n",
    "    avg[-1] = np.sum(rep[:, -1])\n",
    "    rep = np.insert(rep, rep.shape[0], avg, axis=0)\n",
    "\n",
    "    sns.heatmap(rep,\n",
    "                annot=True, \n",
    "                cbar=False, \n",
    "                xticklabels=xticks, \n",
    "                yticklabels=yticks,\n",
    "                ax=ax)\n",
    "\n",
    "plot_classification_report(y_test, y_pred1)"
   ]
  },
  {
   "cell_type": "code",
   "execution_count": 44,
   "metadata": {
    "execution": {
     "iopub.execute_input": "2021-04-11T01:58:19.620689Z",
     "iopub.status.busy": "2021-04-11T01:58:19.608032Z",
     "iopub.status.idle": "2021-04-11T01:58:19.632694Z",
     "shell.execute_reply": "2021-04-11T01:58:19.632250Z"
    },
    "papermill": {
     "duration": 2.560567,
     "end_time": "2021-04-11T01:58:19.632791",
     "exception": false,
     "start_time": "2021-04-11T01:58:17.072224",
     "status": "completed"
    },
    "tags": []
   },
   "outputs": [
    {
     "ename": "NameError",
     "evalue": "name 'cr' is not defined",
     "output_type": "error",
     "traceback": [
      "\u001b[0;31m---------------------------------------------------------------------------\u001b[0m",
      "\u001b[0;31mNameError\u001b[0m                                 Traceback (most recent call last)",
      "\u001b[0;32m<ipython-input-44-4611aa38a2ff>\u001b[0m in \u001b[0;36m<module>\u001b[0;34m\u001b[0m\n\u001b[1;32m     55\u001b[0m \u001b[0;34m\u001b[0m\u001b[0m\n\u001b[1;32m     56\u001b[0m \u001b[0;32mif\u001b[0m \u001b[0m__name__\u001b[0m \u001b[0;34m==\u001b[0m \u001b[0;34m'__main__'\u001b[0m\u001b[0;34m:\u001b[0m\u001b[0;34m\u001b[0m\u001b[0;34m\u001b[0m\u001b[0m\n\u001b[0;32m---> 57\u001b[0;31m     \u001b[0mmain\u001b[0m\u001b[0;34m(\u001b[0m\u001b[0;34m)\u001b[0m\u001b[0;34m\u001b[0m\u001b[0;34m\u001b[0m\u001b[0m\n\u001b[0m",
      "\u001b[0;32m<ipython-input-44-4611aa38a2ff>\u001b[0m in \u001b[0;36mmain\u001b[0;34m()\u001b[0m\n\u001b[1;32m     48\u001b[0m \u001b[0;32mdef\u001b[0m \u001b[0mmain\u001b[0m\u001b[0;34m(\u001b[0m\u001b[0;34m)\u001b[0m\u001b[0;34m:\u001b[0m\u001b[0;34m\u001b[0m\u001b[0;34m\u001b[0m\u001b[0m\n\u001b[1;32m     49\u001b[0m \u001b[0;34m\u001b[0m\u001b[0m\n\u001b[0;32m---> 50\u001b[0;31m     \u001b[0msampleClassificationReport\u001b[0m \u001b[0;34m=\u001b[0m \u001b[0mcr\u001b[0m\u001b[0;34m\u001b[0m\u001b[0;34m\u001b[0m\u001b[0m\n\u001b[0m\u001b[1;32m     51\u001b[0m     \u001b[0mplot_classification_report\u001b[0m\u001b[0;34m(\u001b[0m\u001b[0msampleClassificationReport\u001b[0m\u001b[0;34m)\u001b[0m\u001b[0;34m\u001b[0m\u001b[0;34m\u001b[0m\u001b[0m\n\u001b[1;32m     52\u001b[0m     \u001b[0mplt\u001b[0m\u001b[0;34m.\u001b[0m\u001b[0mshow\u001b[0m\u001b[0;34m(\u001b[0m\u001b[0;34m)\u001b[0m\u001b[0;34m\u001b[0m\u001b[0;34m\u001b[0m\u001b[0m\n",
      "\u001b[0;31mNameError\u001b[0m: name 'cr' is not defined"
     ]
    }
   ],
   "source": [
    "import matplotlib.pyplot as plt\n",
    "import numpy as np\n",
    "import itertools\n",
    "\n",
    "\n",
    "def plot_classification_report(classificationReport,\n",
    "                               title='Classification report',\n",
    "                               cmap='RdBu'):\n",
    "\n",
    "    classificationReport = classificationReport.replace('\\n\\n', '\\n')\n",
    "    classificationReport = classificationReport.replace(' / ', '/')\n",
    "    lines = classificationReport.split('\\n')\n",
    "\n",
    "    classes, plotMat, support, class_names = [], [], [], []\n",
    "    for line in lines[1:]:  # if you don't want avg/total result, then change [1:] into [1:-1]\n",
    "        t = line.strip().split()\n",
    "        if len(t) < 2:\n",
    "            continue\n",
    "        classes.append(t[0])\n",
    "        v = [float(x) for x in t[1: len(t) - 1]]\n",
    "        support.append(int(t[-1]))\n",
    "        class_names.append(t[0])\n",
    "        plotMat.append(v)\n",
    "\n",
    "    plotMat = np.array(plotMat)\n",
    "    xticklabels = ['Precision', 'Recall', 'F1-score']\n",
    "    yticklabels = ['{0} ({1})'.format(class_names[idx], sup)\n",
    "                   for idx, sup in enumerate(support)]\n",
    "\n",
    "    plt.imshow(plotMat, interpolation='nearest', cmap=cmap, aspect='auto')\n",
    "    plt.title(title)\n",
    "    plt.colorbar()\n",
    "    plt.xticks(np.arange(3), xticklabels, rotation=45)\n",
    "    plt.yticks(np.arange(len(classes)), yticklabels)\n",
    "\n",
    "    upper_thresh = plotMat.min() + (plotMat.max() - plotMat.min()) / 10 * 8\n",
    "    lower_thresh = plotMat.min() + (plotMat.max() - plotMat.min()) / 10 * 2\n",
    "    for i, j in itertools.product(range(plotMat.shape[0]), range(plotMat.shape[1])):\n",
    "        plt.text(j, i, format(plotMat[i, j], '.2f'),\n",
    "                 horizontalalignment=\"center\",\n",
    "                 color=\"white\" if (plotMat[i, j] > upper_thresh or plotMat[i, j] < lower_thresh) else \"black\")\n",
    "\n",
    "    plt.ylabel('Metrics')\n",
    "    plt.xlabel('Classes')\n",
    "    plt.tight_layout()\n",
    "\n",
    "\n",
    "def main():\n",
    "\n",
    "    sampleClassificationReport = cr\n",
    "    plot_classification_report(sampleClassificationReport)\n",
    "    plt.show()\n",
    "    plt.close()\n",
    "\n",
    "\n",
    "if __name__ == '__main__':\n",
    "    main()"
   ]
  },
  {
   "cell_type": "code",
   "execution_count": 45,
   "metadata": {
    "execution": {
     "iopub.execute_input": "2021-04-11T01:58:24.933254Z",
     "iopub.status.busy": "2021-04-11T01:58:24.932587Z",
     "iopub.status.idle": "2021-04-11T01:58:25.035256Z",
     "shell.execute_reply": "2021-04-11T01:58:25.034006Z"
    },
    "papermill": {
     "duration": 2.862097,
     "end_time": "2021-04-11T01:58:25.035366",
     "exception": false,
     "start_time": "2021-04-11T01:58:22.173269",
     "status": "completed"
    },
    "tags": []
   },
   "outputs": [],
   "source": [
    "from sklearn.linear_model import LogisticRegression\n",
    "from sklearn.svm import SVC\n",
    "from sklearn.neighbors import KNeighborsClassifier\n",
    "from sklearn.tree import DecisionTreeClassifier\n",
    "from sklearn.ensemble import RandomForestClassifier\n",
    "from sklearn.naive_bayes import MultinomialNB\n",
    "from sklearn.metrics import classification_report,confusion_matrix,accuracy_score,plot_confusion_matrix"
   ]
  },
  {
   "cell_type": "code",
   "execution_count": 46,
   "metadata": {
    "execution": {
     "iopub.execute_input": "2021-04-11T01:58:30.024450Z",
     "iopub.status.busy": "2021-04-11T01:58:30.023662Z",
     "iopub.status.idle": "2021-04-11T01:58:30.026820Z",
     "shell.execute_reply": "2021-04-11T01:58:30.026386Z"
    },
    "papermill": {
     "duration": 2.521139,
     "end_time": "2021-04-11T01:58:30.026937",
     "exception": false,
     "start_time": "2021-04-11T01:58:27.505798",
     "status": "completed"
    },
    "tags": []
   },
   "outputs": [],
   "source": [
    "classifiers = {\n",
    "    \"LogisiticRegression\": LogisticRegression(),\n",
    "    \"KNearest\": KNeighborsClassifier(n_neighbors=1),\n",
    "    \"Support Vector Classifier\": SVC(),\n",
    "    \"DecisionTreeClassifier\": DecisionTreeClassifier(),\n",
    "    \"MultinimialNB\": MultinomialNB()\n",
    "}\n"
   ]
  },
  {
   "cell_type": "code",
   "execution_count": 47,
   "metadata": {
    "execution": {
     "iopub.execute_input": "2021-04-11T01:58:35.224865Z",
     "iopub.status.busy": "2021-04-11T01:58:35.224118Z",
     "iopub.status.idle": "2021-04-11T01:58:35.227873Z",
     "shell.execute_reply": "2021-04-11T01:58:35.227447Z"
    },
    "papermill": {
     "duration": 2.710225,
     "end_time": "2021-04-11T01:58:35.227965",
     "exception": false,
     "start_time": "2021-04-11T01:58:32.517740",
     "status": "completed"
    },
    "tags": []
   },
   "outputs": [
    {
     "data": {
      "text/plain": [
       "300"
      ]
     },
     "execution_count": 47,
     "metadata": {},
     "output_type": "execute_result"
    }
   ],
   "source": [
    "trainDataVecs.shape[2]"
   ]
  },
  {
   "cell_type": "code",
   "execution_count": 48,
   "metadata": {
    "execution": {
     "iopub.execute_input": "2021-04-11T01:58:40.254150Z",
     "iopub.status.busy": "2021-04-11T01:58:40.253608Z",
     "iopub.status.idle": "2021-04-11T01:58:40.288365Z",
     "shell.execute_reply": "2021-04-11T01:58:40.287654Z"
    },
    "papermill": {
     "duration": 2.542427,
     "end_time": "2021-04-11T01:58:40.288466",
     "exception": false,
     "start_time": "2021-04-11T01:58:37.746039",
     "status": "completed"
    },
    "tags": []
   },
   "outputs": [
    {
     "ename": "ValueError",
     "evalue": "cannot reshape array of size 2477700 into shape (8259,)",
     "output_type": "error",
     "traceback": [
      "\u001b[0;31m---------------------------------------------------------------------------\u001b[0m",
      "\u001b[0;31mValueError\u001b[0m                                Traceback (most recent call last)",
      "\u001b[0;32m<ipython-input-48-03b3173425fa>\u001b[0m in \u001b[0;36m<module>\u001b[0;34m\u001b[0m\n\u001b[0;32m----> 1\u001b[0;31m \u001b[0mtrainDataVecs1\u001b[0m \u001b[0;34m=\u001b[0m \u001b[0mnp\u001b[0m\u001b[0;34m.\u001b[0m\u001b[0mreshape\u001b[0m\u001b[0;34m(\u001b[0m\u001b[0mtrainDataVecs\u001b[0m\u001b[0;34m,\u001b[0m\u001b[0mtrainDataVecs\u001b[0m\u001b[0;34m.\u001b[0m\u001b[0mshape\u001b[0m\u001b[0;34m[\u001b[0m\u001b[0;36m0\u001b[0m\u001b[0;34m]\u001b[0m\u001b[0;34m,\u001b[0m\u001b[0mtrainDataVecs\u001b[0m\u001b[0;34m.\u001b[0m\u001b[0mshape\u001b[0m\u001b[0;34m[\u001b[0m\u001b[0;36m2\u001b[0m\u001b[0;34m]\u001b[0m\u001b[0;34m)\u001b[0m\u001b[0;34m\u001b[0m\u001b[0;34m\u001b[0m\u001b[0m\n\u001b[0m\u001b[1;32m      2\u001b[0m \u001b[0mtrainDataVecs1\u001b[0m\u001b[0;34m.\u001b[0m\u001b[0mshape\u001b[0m\u001b[0;34m\u001b[0m\u001b[0;34m\u001b[0m\u001b[0m\n",
      "\u001b[0;32m<__array_function__ internals>\u001b[0m in \u001b[0;36mreshape\u001b[0;34m(*args, **kwargs)\u001b[0m\n",
      "\u001b[0;32m/opt/conda/lib/python3.7/site-packages/numpy/core/fromnumeric.py\u001b[0m in \u001b[0;36mreshape\u001b[0;34m(a, newshape, order)\u001b[0m\n\u001b[1;32m    299\u001b[0m            [5, 6]])\n\u001b[1;32m    300\u001b[0m     \"\"\"\n\u001b[0;32m--> 301\u001b[0;31m     \u001b[0;32mreturn\u001b[0m \u001b[0m_wrapfunc\u001b[0m\u001b[0;34m(\u001b[0m\u001b[0ma\u001b[0m\u001b[0;34m,\u001b[0m \u001b[0;34m'reshape'\u001b[0m\u001b[0;34m,\u001b[0m \u001b[0mnewshape\u001b[0m\u001b[0;34m,\u001b[0m \u001b[0morder\u001b[0m\u001b[0;34m=\u001b[0m\u001b[0morder\u001b[0m\u001b[0;34m)\u001b[0m\u001b[0;34m\u001b[0m\u001b[0;34m\u001b[0m\u001b[0m\n\u001b[0m\u001b[1;32m    302\u001b[0m \u001b[0;34m\u001b[0m\u001b[0m\n\u001b[1;32m    303\u001b[0m \u001b[0;34m\u001b[0m\u001b[0m\n",
      "\u001b[0;32m/opt/conda/lib/python3.7/site-packages/numpy/core/fromnumeric.py\u001b[0m in \u001b[0;36m_wrapfunc\u001b[0;34m(obj, method, *args, **kwds)\u001b[0m\n\u001b[1;32m     59\u001b[0m \u001b[0;34m\u001b[0m\u001b[0m\n\u001b[1;32m     60\u001b[0m     \u001b[0;32mtry\u001b[0m\u001b[0;34m:\u001b[0m\u001b[0;34m\u001b[0m\u001b[0;34m\u001b[0m\u001b[0m\n\u001b[0;32m---> 61\u001b[0;31m         \u001b[0;32mreturn\u001b[0m \u001b[0mbound\u001b[0m\u001b[0;34m(\u001b[0m\u001b[0;34m*\u001b[0m\u001b[0margs\u001b[0m\u001b[0;34m,\u001b[0m \u001b[0;34m**\u001b[0m\u001b[0mkwds\u001b[0m\u001b[0;34m)\u001b[0m\u001b[0;34m\u001b[0m\u001b[0;34m\u001b[0m\u001b[0m\n\u001b[0m\u001b[1;32m     62\u001b[0m     \u001b[0;32mexcept\u001b[0m \u001b[0mTypeError\u001b[0m\u001b[0;34m:\u001b[0m\u001b[0;34m\u001b[0m\u001b[0;34m\u001b[0m\u001b[0m\n\u001b[1;32m     63\u001b[0m         \u001b[0;31m# A TypeError occurs if the object does have such a method in its\u001b[0m\u001b[0;34m\u001b[0m\u001b[0;34m\u001b[0m\u001b[0;34m\u001b[0m\u001b[0m\n",
      "\u001b[0;31mValueError\u001b[0m: cannot reshape array of size 2477700 into shape (8259,)"
     ]
    }
   ],
   "source": [
    "trainDataVecs1 = np.reshape(trainDataVecs,trainDataVecs.shape[0],trainDataVecs.shape[2])\n",
    "trainDataVecs1.shape"
   ]
  },
  {
   "cell_type": "code",
   "execution_count": 49,
   "metadata": {
    "execution": {
     "iopub.execute_input": "2021-04-11T01:58:45.328788Z",
     "iopub.status.busy": "2021-04-11T01:58:45.327824Z",
     "iopub.status.idle": "2021-04-11T01:58:45.377630Z",
     "shell.execute_reply": "2021-04-11T01:58:45.378208Z"
    },
    "papermill": {
     "duration": 2.582958,
     "end_time": "2021-04-11T01:58:45.378363",
     "exception": false,
     "start_time": "2021-04-11T01:58:42.795405",
     "status": "completed"
    },
    "tags": []
   },
   "outputs": [
    {
     "ename": "ValueError",
     "evalue": "Found array with dim 3. Estimator expected <= 2.",
     "output_type": "error",
     "traceback": [
      "\u001b[0;31m---------------------------------------------------------------------------\u001b[0m",
      "\u001b[0;31mValueError\u001b[0m                                Traceback (most recent call last)",
      "\u001b[0;32m<ipython-input-49-033b0f69e622>\u001b[0m in \u001b[0;36m<module>\u001b[0;34m\u001b[0m\n\u001b[1;32m      3\u001b[0m \u001b[0mclassifier\u001b[0m \u001b[0;34m=\u001b[0m \u001b[0mKNeighborsClassifier\u001b[0m\u001b[0;34m(\u001b[0m\u001b[0;34m)\u001b[0m\u001b[0;34m\u001b[0m\u001b[0;34m\u001b[0m\u001b[0m\n\u001b[1;32m      4\u001b[0m \u001b[0;34m\u001b[0m\u001b[0m\n\u001b[0;32m----> 5\u001b[0;31m \u001b[0mclassifier\u001b[0m\u001b[0;34m.\u001b[0m\u001b[0mfit\u001b[0m\u001b[0;34m(\u001b[0m\u001b[0mtrainDataVecs\u001b[0m\u001b[0;34m,\u001b[0m \u001b[0my_train\u001b[0m\u001b[0;34m)\u001b[0m\u001b[0;34m\u001b[0m\u001b[0;34m\u001b[0m\u001b[0m\n\u001b[0m\u001b[1;32m      6\u001b[0m \u001b[0mtraining_score\u001b[0m \u001b[0;34m=\u001b[0m \u001b[0mcross_val_score\u001b[0m\u001b[0;34m(\u001b[0m\u001b[0mclassifier\u001b[0m\u001b[0;34m,\u001b[0m \u001b[0mtrain_vectors\u001b[0m\u001b[0;34m,\u001b[0m \u001b[0mdf_train\u001b[0m\u001b[0;34m[\u001b[0m\u001b[0;34m\"domain1_score\"\u001b[0m\u001b[0;34m]\u001b[0m\u001b[0;34m,\u001b[0m \u001b[0mcv\u001b[0m\u001b[0;34m=\u001b[0m\u001b[0;36m5\u001b[0m\u001b[0;34m)\u001b[0m\u001b[0;34m\u001b[0m\u001b[0;34m\u001b[0m\u001b[0m\n\u001b[1;32m      7\u001b[0m \u001b[0mprint\u001b[0m\u001b[0;34m(\u001b[0m\u001b[0;34m\"Classifiers: \"\u001b[0m\u001b[0;34m,\u001b[0m \u001b[0mclassifier\u001b[0m\u001b[0;34m.\u001b[0m\u001b[0m__class__\u001b[0m\u001b[0;34m.\u001b[0m\u001b[0m__name__\u001b[0m\u001b[0;34m,\u001b[0m \u001b[0;34m\"Has a training score of\"\u001b[0m\u001b[0;34m,\u001b[0m \u001b[0mround\u001b[0m\u001b[0;34m(\u001b[0m\u001b[0mtraining_score\u001b[0m\u001b[0;34m.\u001b[0m\u001b[0mmean\u001b[0m\u001b[0;34m(\u001b[0m\u001b[0;34m)\u001b[0m\u001b[0;34m,\u001b[0m \u001b[0;36m2\u001b[0m\u001b[0;34m)\u001b[0m \u001b[0;34m*\u001b[0m \u001b[0;36m100\u001b[0m\u001b[0;34m,\u001b[0m \u001b[0;34m\"% accuracy score\"\u001b[0m\u001b[0;34m)\u001b[0m\u001b[0;34m\u001b[0m\u001b[0;34m\u001b[0m\u001b[0m\n",
      "\u001b[0;32m/opt/conda/lib/python3.7/site-packages/sklearn/neighbors/_base.py\u001b[0m in \u001b[0;36mfit\u001b[0;34m(self, X, y)\u001b[0m\n\u001b[1;32m   1130\u001b[0m         \u001b[0;32mif\u001b[0m \u001b[0;32mnot\u001b[0m \u001b[0misinstance\u001b[0m\u001b[0;34m(\u001b[0m\u001b[0mX\u001b[0m\u001b[0;34m,\u001b[0m \u001b[0;34m(\u001b[0m\u001b[0mKDTree\u001b[0m\u001b[0;34m,\u001b[0m \u001b[0mBallTree\u001b[0m\u001b[0;34m)\u001b[0m\u001b[0;34m)\u001b[0m\u001b[0;34m:\u001b[0m\u001b[0;34m\u001b[0m\u001b[0;34m\u001b[0m\u001b[0m\n\u001b[1;32m   1131\u001b[0m             X, y = self._validate_data(X, y, accept_sparse=\"csr\",\n\u001b[0;32m-> 1132\u001b[0;31m                                        multi_output=True)\n\u001b[0m\u001b[1;32m   1133\u001b[0m \u001b[0;34m\u001b[0m\u001b[0m\n\u001b[1;32m   1134\u001b[0m         \u001b[0;32mif\u001b[0m \u001b[0my\u001b[0m\u001b[0;34m.\u001b[0m\u001b[0mndim\u001b[0m \u001b[0;34m==\u001b[0m \u001b[0;36m1\u001b[0m \u001b[0;32mor\u001b[0m \u001b[0my\u001b[0m\u001b[0;34m.\u001b[0m\u001b[0mndim\u001b[0m \u001b[0;34m==\u001b[0m \u001b[0;36m2\u001b[0m \u001b[0;32mand\u001b[0m \u001b[0my\u001b[0m\u001b[0;34m.\u001b[0m\u001b[0mshape\u001b[0m\u001b[0;34m[\u001b[0m\u001b[0;36m1\u001b[0m\u001b[0;34m]\u001b[0m \u001b[0;34m==\u001b[0m \u001b[0;36m1\u001b[0m\u001b[0;34m:\u001b[0m\u001b[0;34m\u001b[0m\u001b[0;34m\u001b[0m\u001b[0m\n",
      "\u001b[0;32m/opt/conda/lib/python3.7/site-packages/sklearn/base.py\u001b[0m in \u001b[0;36m_validate_data\u001b[0;34m(self, X, y, reset, validate_separately, **check_params)\u001b[0m\n\u001b[1;32m    430\u001b[0m                 \u001b[0my\u001b[0m \u001b[0;34m=\u001b[0m \u001b[0mcheck_array\u001b[0m\u001b[0;34m(\u001b[0m\u001b[0my\u001b[0m\u001b[0;34m,\u001b[0m \u001b[0;34m**\u001b[0m\u001b[0mcheck_y_params\u001b[0m\u001b[0;34m)\u001b[0m\u001b[0;34m\u001b[0m\u001b[0;34m\u001b[0m\u001b[0m\n\u001b[1;32m    431\u001b[0m             \u001b[0;32melse\u001b[0m\u001b[0;34m:\u001b[0m\u001b[0;34m\u001b[0m\u001b[0;34m\u001b[0m\u001b[0m\n\u001b[0;32m--> 432\u001b[0;31m                 \u001b[0mX\u001b[0m\u001b[0;34m,\u001b[0m \u001b[0my\u001b[0m \u001b[0;34m=\u001b[0m \u001b[0mcheck_X_y\u001b[0m\u001b[0;34m(\u001b[0m\u001b[0mX\u001b[0m\u001b[0;34m,\u001b[0m \u001b[0my\u001b[0m\u001b[0;34m,\u001b[0m \u001b[0;34m**\u001b[0m\u001b[0mcheck_params\u001b[0m\u001b[0;34m)\u001b[0m\u001b[0;34m\u001b[0m\u001b[0;34m\u001b[0m\u001b[0m\n\u001b[0m\u001b[1;32m    433\u001b[0m             \u001b[0mout\u001b[0m \u001b[0;34m=\u001b[0m \u001b[0mX\u001b[0m\u001b[0;34m,\u001b[0m \u001b[0my\u001b[0m\u001b[0;34m\u001b[0m\u001b[0;34m\u001b[0m\u001b[0m\n\u001b[1;32m    434\u001b[0m \u001b[0;34m\u001b[0m\u001b[0m\n",
      "\u001b[0;32m/opt/conda/lib/python3.7/site-packages/sklearn/utils/validation.py\u001b[0m in \u001b[0;36minner_f\u001b[0;34m(*args, **kwargs)\u001b[0m\n\u001b[1;32m     70\u001b[0m                           FutureWarning)\n\u001b[1;32m     71\u001b[0m         \u001b[0mkwargs\u001b[0m\u001b[0;34m.\u001b[0m\u001b[0mupdate\u001b[0m\u001b[0;34m(\u001b[0m\u001b[0;34m{\u001b[0m\u001b[0mk\u001b[0m\u001b[0;34m:\u001b[0m \u001b[0marg\u001b[0m \u001b[0;32mfor\u001b[0m \u001b[0mk\u001b[0m\u001b[0;34m,\u001b[0m \u001b[0marg\u001b[0m \u001b[0;32min\u001b[0m \u001b[0mzip\u001b[0m\u001b[0;34m(\u001b[0m\u001b[0msig\u001b[0m\u001b[0;34m.\u001b[0m\u001b[0mparameters\u001b[0m\u001b[0;34m,\u001b[0m \u001b[0margs\u001b[0m\u001b[0;34m)\u001b[0m\u001b[0;34m}\u001b[0m\u001b[0;34m)\u001b[0m\u001b[0;34m\u001b[0m\u001b[0;34m\u001b[0m\u001b[0m\n\u001b[0;32m---> 72\u001b[0;31m         \u001b[0;32mreturn\u001b[0m \u001b[0mf\u001b[0m\u001b[0;34m(\u001b[0m\u001b[0;34m**\u001b[0m\u001b[0mkwargs\u001b[0m\u001b[0;34m)\u001b[0m\u001b[0;34m\u001b[0m\u001b[0;34m\u001b[0m\u001b[0m\n\u001b[0m\u001b[1;32m     73\u001b[0m     \u001b[0;32mreturn\u001b[0m \u001b[0minner_f\u001b[0m\u001b[0;34m\u001b[0m\u001b[0;34m\u001b[0m\u001b[0m\n\u001b[1;32m     74\u001b[0m \u001b[0;34m\u001b[0m\u001b[0m\n",
      "\u001b[0;32m/opt/conda/lib/python3.7/site-packages/sklearn/utils/validation.py\u001b[0m in \u001b[0;36mcheck_X_y\u001b[0;34m(X, y, accept_sparse, accept_large_sparse, dtype, order, copy, force_all_finite, ensure_2d, allow_nd, multi_output, ensure_min_samples, ensure_min_features, y_numeric, estimator)\u001b[0m\n\u001b[1;32m    800\u001b[0m                     \u001b[0mensure_min_samples\u001b[0m\u001b[0;34m=\u001b[0m\u001b[0mensure_min_samples\u001b[0m\u001b[0;34m,\u001b[0m\u001b[0;34m\u001b[0m\u001b[0;34m\u001b[0m\u001b[0m\n\u001b[1;32m    801\u001b[0m                     \u001b[0mensure_min_features\u001b[0m\u001b[0;34m=\u001b[0m\u001b[0mensure_min_features\u001b[0m\u001b[0;34m,\u001b[0m\u001b[0;34m\u001b[0m\u001b[0;34m\u001b[0m\u001b[0m\n\u001b[0;32m--> 802\u001b[0;31m                     estimator=estimator)\n\u001b[0m\u001b[1;32m    803\u001b[0m     \u001b[0;32mif\u001b[0m \u001b[0mmulti_output\u001b[0m\u001b[0;34m:\u001b[0m\u001b[0;34m\u001b[0m\u001b[0;34m\u001b[0m\u001b[0m\n\u001b[1;32m    804\u001b[0m         y = check_array(y, accept_sparse='csr', force_all_finite=True,\n",
      "\u001b[0;32m/opt/conda/lib/python3.7/site-packages/sklearn/utils/validation.py\u001b[0m in \u001b[0;36minner_f\u001b[0;34m(*args, **kwargs)\u001b[0m\n\u001b[1;32m     70\u001b[0m                           FutureWarning)\n\u001b[1;32m     71\u001b[0m         \u001b[0mkwargs\u001b[0m\u001b[0;34m.\u001b[0m\u001b[0mupdate\u001b[0m\u001b[0;34m(\u001b[0m\u001b[0;34m{\u001b[0m\u001b[0mk\u001b[0m\u001b[0;34m:\u001b[0m \u001b[0marg\u001b[0m \u001b[0;32mfor\u001b[0m \u001b[0mk\u001b[0m\u001b[0;34m,\u001b[0m \u001b[0marg\u001b[0m \u001b[0;32min\u001b[0m \u001b[0mzip\u001b[0m\u001b[0;34m(\u001b[0m\u001b[0msig\u001b[0m\u001b[0;34m.\u001b[0m\u001b[0mparameters\u001b[0m\u001b[0;34m,\u001b[0m \u001b[0margs\u001b[0m\u001b[0;34m)\u001b[0m\u001b[0;34m}\u001b[0m\u001b[0;34m)\u001b[0m\u001b[0;34m\u001b[0m\u001b[0;34m\u001b[0m\u001b[0m\n\u001b[0;32m---> 72\u001b[0;31m         \u001b[0;32mreturn\u001b[0m \u001b[0mf\u001b[0m\u001b[0;34m(\u001b[0m\u001b[0;34m**\u001b[0m\u001b[0mkwargs\u001b[0m\u001b[0;34m)\u001b[0m\u001b[0;34m\u001b[0m\u001b[0;34m\u001b[0m\u001b[0m\n\u001b[0m\u001b[1;32m     73\u001b[0m     \u001b[0;32mreturn\u001b[0m \u001b[0minner_f\u001b[0m\u001b[0;34m\u001b[0m\u001b[0;34m\u001b[0m\u001b[0m\n\u001b[1;32m     74\u001b[0m \u001b[0;34m\u001b[0m\u001b[0m\n",
      "\u001b[0;32m/opt/conda/lib/python3.7/site-packages/sklearn/utils/validation.py\u001b[0m in \u001b[0;36mcheck_array\u001b[0;34m(array, accept_sparse, accept_large_sparse, dtype, order, copy, force_all_finite, ensure_2d, allow_nd, ensure_min_samples, ensure_min_features, estimator)\u001b[0m\n\u001b[1;32m    639\u001b[0m         \u001b[0;32mif\u001b[0m \u001b[0;32mnot\u001b[0m \u001b[0mallow_nd\u001b[0m \u001b[0;32mand\u001b[0m \u001b[0marray\u001b[0m\u001b[0;34m.\u001b[0m\u001b[0mndim\u001b[0m \u001b[0;34m>=\u001b[0m \u001b[0;36m3\u001b[0m\u001b[0;34m:\u001b[0m\u001b[0;34m\u001b[0m\u001b[0;34m\u001b[0m\u001b[0m\n\u001b[1;32m    640\u001b[0m             raise ValueError(\"Found array with dim %d. %s expected <= 2.\"\n\u001b[0;32m--> 641\u001b[0;31m                              % (array.ndim, estimator_name))\n\u001b[0m\u001b[1;32m    642\u001b[0m \u001b[0;34m\u001b[0m\u001b[0m\n\u001b[1;32m    643\u001b[0m         \u001b[0;32mif\u001b[0m \u001b[0mforce_all_finite\u001b[0m\u001b[0;34m:\u001b[0m\u001b[0;34m\u001b[0m\u001b[0;34m\u001b[0m\u001b[0m\n",
      "\u001b[0;31mValueError\u001b[0m: Found array with dim 3. Estimator expected <= 2."
     ]
    }
   ],
   "source": [
    "from sklearn.model_selection import cross_val_score\n",
    "\n",
    "classifier = KNeighborsClassifier()\n",
    "\n",
    "classifier.fit(trainDataVecs, y_train)\n",
    "training_score = cross_val_score(classifier, train_vectors, df_train[\"domain1_score\"], cv=5)\n",
    "print(\"Classifiers: \", classifier.__class__.__name__, \"Has a training score of\", round(training_score.mean(), 2) * 100, \"% accuracy score\")"
   ]
  },
  {
   "cell_type": "code",
   "execution_count": 50,
   "metadata": {
    "execution": {
     "iopub.execute_input": "2021-04-11T01:58:51.047349Z",
     "iopub.status.busy": "2021-04-11T01:58:51.046567Z",
     "iopub.status.idle": "2021-04-11T01:58:51.113440Z",
     "shell.execute_reply": "2021-04-11T01:58:51.113921Z"
    },
    "papermill": {
     "duration": 2.614627,
     "end_time": "2021-04-11T01:58:51.114045",
     "exception": false,
     "start_time": "2021-04-11T01:58:48.499418",
     "status": "completed"
    },
    "tags": []
   },
   "outputs": [
    {
     "ename": "KeyError",
     "evalue": "'domain1_score'",
     "output_type": "error",
     "traceback": [
      "\u001b[0;31m---------------------------------------------------------------------------\u001b[0m",
      "\u001b[0;31mKeyError\u001b[0m                                  Traceback (most recent call last)",
      "\u001b[0;32m/opt/conda/lib/python3.7/site-packages/pandas/core/indexes/base.py\u001b[0m in \u001b[0;36mget_loc\u001b[0;34m(self, key, method, tolerance)\u001b[0m\n\u001b[1;32m   2897\u001b[0m             \u001b[0;32mtry\u001b[0m\u001b[0;34m:\u001b[0m\u001b[0;34m\u001b[0m\u001b[0;34m\u001b[0m\u001b[0m\n\u001b[0;32m-> 2898\u001b[0;31m                 \u001b[0;32mreturn\u001b[0m \u001b[0mself\u001b[0m\u001b[0;34m.\u001b[0m\u001b[0m_engine\u001b[0m\u001b[0;34m.\u001b[0m\u001b[0mget_loc\u001b[0m\u001b[0;34m(\u001b[0m\u001b[0mcasted_key\u001b[0m\u001b[0;34m)\u001b[0m\u001b[0;34m\u001b[0m\u001b[0;34m\u001b[0m\u001b[0m\n\u001b[0m\u001b[1;32m   2899\u001b[0m             \u001b[0;32mexcept\u001b[0m \u001b[0mKeyError\u001b[0m \u001b[0;32mas\u001b[0m \u001b[0merr\u001b[0m\u001b[0;34m:\u001b[0m\u001b[0;34m\u001b[0m\u001b[0;34m\u001b[0m\u001b[0m\n",
      "\u001b[0;32mpandas/_libs/index.pyx\u001b[0m in \u001b[0;36mpandas._libs.index.IndexEngine.get_loc\u001b[0;34m()\u001b[0m\n",
      "\u001b[0;32mpandas/_libs/index.pyx\u001b[0m in \u001b[0;36mpandas._libs.index.IndexEngine.get_loc\u001b[0;34m()\u001b[0m\n",
      "\u001b[0;32mpandas/_libs/hashtable_class_helper.pxi\u001b[0m in \u001b[0;36mpandas._libs.hashtable.PyObjectHashTable.get_item\u001b[0;34m()\u001b[0m\n",
      "\u001b[0;32mpandas/_libs/hashtable_class_helper.pxi\u001b[0m in \u001b[0;36mpandas._libs.hashtable.PyObjectHashTable.get_item\u001b[0;34m()\u001b[0m\n",
      "\u001b[0;31mKeyError\u001b[0m: 'domain1_score'",
      "\nThe above exception was the direct cause of the following exception:\n",
      "\u001b[0;31mKeyError\u001b[0m                                  Traceback (most recent call last)",
      "\u001b[0;32m<ipython-input-50-92d7479716e5>\u001b[0m in \u001b[0;36m<module>\u001b[0;34m\u001b[0m\n\u001b[0;32m----> 1\u001b[0;31m \u001b[0mnp\u001b[0m\u001b[0;34m.\u001b[0m\u001b[0munique\u001b[0m\u001b[0;34m(\u001b[0m\u001b[0mdf\u001b[0m\u001b[0;34m[\u001b[0m\u001b[0;34m'domain1_score'\u001b[0m\u001b[0;34m]\u001b[0m\u001b[0;34m,\u001b[0m\u001b[0mreturn_counts\u001b[0m\u001b[0;34m=\u001b[0m\u001b[0;32mTrue\u001b[0m\u001b[0;34m)\u001b[0m\u001b[0;34m\u001b[0m\u001b[0;34m\u001b[0m\u001b[0m\n\u001b[0m",
      "\u001b[0;32m/opt/conda/lib/python3.7/site-packages/pandas/core/frame.py\u001b[0m in \u001b[0;36m__getitem__\u001b[0;34m(self, key)\u001b[0m\n\u001b[1;32m   2904\u001b[0m             \u001b[0;32mif\u001b[0m \u001b[0mself\u001b[0m\u001b[0;34m.\u001b[0m\u001b[0mcolumns\u001b[0m\u001b[0;34m.\u001b[0m\u001b[0mnlevels\u001b[0m \u001b[0;34m>\u001b[0m \u001b[0;36m1\u001b[0m\u001b[0;34m:\u001b[0m\u001b[0;34m\u001b[0m\u001b[0;34m\u001b[0m\u001b[0m\n\u001b[1;32m   2905\u001b[0m                 \u001b[0;32mreturn\u001b[0m \u001b[0mself\u001b[0m\u001b[0;34m.\u001b[0m\u001b[0m_getitem_multilevel\u001b[0m\u001b[0;34m(\u001b[0m\u001b[0mkey\u001b[0m\u001b[0;34m)\u001b[0m\u001b[0;34m\u001b[0m\u001b[0;34m\u001b[0m\u001b[0m\n\u001b[0;32m-> 2906\u001b[0;31m             \u001b[0mindexer\u001b[0m \u001b[0;34m=\u001b[0m \u001b[0mself\u001b[0m\u001b[0;34m.\u001b[0m\u001b[0mcolumns\u001b[0m\u001b[0;34m.\u001b[0m\u001b[0mget_loc\u001b[0m\u001b[0;34m(\u001b[0m\u001b[0mkey\u001b[0m\u001b[0;34m)\u001b[0m\u001b[0;34m\u001b[0m\u001b[0;34m\u001b[0m\u001b[0m\n\u001b[0m\u001b[1;32m   2907\u001b[0m             \u001b[0;32mif\u001b[0m \u001b[0mis_integer\u001b[0m\u001b[0;34m(\u001b[0m\u001b[0mindexer\u001b[0m\u001b[0;34m)\u001b[0m\u001b[0;34m:\u001b[0m\u001b[0;34m\u001b[0m\u001b[0;34m\u001b[0m\u001b[0m\n\u001b[1;32m   2908\u001b[0m                 \u001b[0mindexer\u001b[0m \u001b[0;34m=\u001b[0m \u001b[0;34m[\u001b[0m\u001b[0mindexer\u001b[0m\u001b[0;34m]\u001b[0m\u001b[0;34m\u001b[0m\u001b[0;34m\u001b[0m\u001b[0m\n",
      "\u001b[0;32m/opt/conda/lib/python3.7/site-packages/pandas/core/indexes/base.py\u001b[0m in \u001b[0;36mget_loc\u001b[0;34m(self, key, method, tolerance)\u001b[0m\n\u001b[1;32m   2898\u001b[0m                 \u001b[0;32mreturn\u001b[0m \u001b[0mself\u001b[0m\u001b[0;34m.\u001b[0m\u001b[0m_engine\u001b[0m\u001b[0;34m.\u001b[0m\u001b[0mget_loc\u001b[0m\u001b[0;34m(\u001b[0m\u001b[0mcasted_key\u001b[0m\u001b[0;34m)\u001b[0m\u001b[0;34m\u001b[0m\u001b[0;34m\u001b[0m\u001b[0m\n\u001b[1;32m   2899\u001b[0m             \u001b[0;32mexcept\u001b[0m \u001b[0mKeyError\u001b[0m \u001b[0;32mas\u001b[0m \u001b[0merr\u001b[0m\u001b[0;34m:\u001b[0m\u001b[0;34m\u001b[0m\u001b[0;34m\u001b[0m\u001b[0m\n\u001b[0;32m-> 2900\u001b[0;31m                 \u001b[0;32mraise\u001b[0m \u001b[0mKeyError\u001b[0m\u001b[0;34m(\u001b[0m\u001b[0mkey\u001b[0m\u001b[0;34m)\u001b[0m \u001b[0;32mfrom\u001b[0m \u001b[0merr\u001b[0m\u001b[0;34m\u001b[0m\u001b[0;34m\u001b[0m\u001b[0m\n\u001b[0m\u001b[1;32m   2901\u001b[0m \u001b[0;34m\u001b[0m\u001b[0m\n\u001b[1;32m   2902\u001b[0m         \u001b[0;32mif\u001b[0m \u001b[0mtolerance\u001b[0m \u001b[0;32mis\u001b[0m \u001b[0;32mnot\u001b[0m \u001b[0;32mNone\u001b[0m\u001b[0;34m:\u001b[0m\u001b[0;34m\u001b[0m\u001b[0;34m\u001b[0m\u001b[0m\n",
      "\u001b[0;31mKeyError\u001b[0m: 'domain1_score'"
     ]
    }
   ],
   "source": [
    "np.unique(df['domain1_score'],return_counts=True)"
   ]
  },
  {
   "cell_type": "code",
   "execution_count": 51,
   "metadata": {
    "execution": {
     "iopub.execute_input": "2021-04-11T01:58:56.174858Z",
     "iopub.status.busy": "2021-04-11T01:58:56.174019Z",
     "iopub.status.idle": "2021-04-11T01:58:56.179362Z",
     "shell.execute_reply": "2021-04-11T01:58:56.178842Z"
    },
    "papermill": {
     "duration": 2.53005,
     "end_time": "2021-04-11T01:58:56.179483",
     "exception": false,
     "start_time": "2021-04-11T01:58:53.649433",
     "status": "completed"
    },
    "tags": []
   },
   "outputs": [
    {
     "data": {
      "text/html": [
       "<div>\n",
       "<style scoped>\n",
       "    .dataframe tbody tr th:only-of-type {\n",
       "        vertical-align: middle;\n",
       "    }\n",
       "\n",
       "    .dataframe tbody tr th {\n",
       "        vertical-align: top;\n",
       "    }\n",
       "\n",
       "    .dataframe thead th {\n",
       "        text-align: right;\n",
       "    }\n",
       "</style>\n",
       "<table border=\"1\" class=\"dataframe\">\n",
       "  <thead>\n",
       "    <tr style=\"text-align: right;\">\n",
       "      <th></th>\n",
       "      <th>essay</th>\n",
       "      <th>score</th>\n",
       "    </tr>\n",
       "  </thead>\n",
       "  <tbody>\n",
       "    <tr>\n",
       "      <th>0</th>\n",
       "      <td>Write a persuasive essay to a newspaper reflec...</td>\n",
       "      <td>1</td>\n",
       "    </tr>\n",
       "    <tr>\n",
       "      <th>1</th>\n",
       "      <td>If the people that are publishing and writing ...</td>\n",
       "      <td>1</td>\n",
       "    </tr>\n",
       "    <tr>\n",
       "      <th>2</th>\n",
       "      <td>I do think that there should be a censorship i...</td>\n",
       "      <td>1</td>\n",
       "    </tr>\n",
       "    <tr>\n",
       "      <th>3</th>\n",
       "      <td>I belive that they need to keep every thing an...</td>\n",
       "      <td>1</td>\n",
       "    </tr>\n",
       "    <tr>\n",
       "      <th>4</th>\n",
       "      <td>Hi my name is @CAPS1 @CAPS2 @PERSON1 and I'm h...</td>\n",
       "      <td>1</td>\n",
       "    </tr>\n",
       "    <tr>\n",
       "      <th>...</th>\n",
       "      <td>...</td>\n",
       "      <td>...</td>\n",
       "    </tr>\n",
       "    <tr>\n",
       "      <th>10318</th>\n",
       "      <td>A time I was patient was when I had to be pati...</td>\n",
       "      <td>10</td>\n",
       "    </tr>\n",
       "    <tr>\n",
       "      <th>10319</th>\n",
       "      <td>Being patient is hard to be. First of all its ...</td>\n",
       "      <td>10</td>\n",
       "    </tr>\n",
       "    <tr>\n",
       "      <th>10320</th>\n",
       "      <td>One day I was watching @CAPS1. I was bored the...</td>\n",
       "      <td>10</td>\n",
       "    </tr>\n",
       "    <tr>\n",
       "      <th>10321</th>\n",
       "      <td>My own way about patient is that when somebody...</td>\n",
       "      <td>10</td>\n",
       "    </tr>\n",
       "    <tr>\n",
       "      <th>10322</th>\n",
       "      <td>I dont like computers</td>\n",
       "      <td>10</td>\n",
       "    </tr>\n",
       "  </tbody>\n",
       "</table>\n",
       "<p>10323 rows × 2 columns</p>\n",
       "</div>"
      ],
      "text/plain": [
       "                                                   essay  score\n",
       "0      Write a persuasive essay to a newspaper reflec...      1\n",
       "1      If the people that are publishing and writing ...      1\n",
       "2      I do think that there should be a censorship i...      1\n",
       "3      I belive that they need to keep every thing an...      1\n",
       "4      Hi my name is @CAPS1 @CAPS2 @PERSON1 and I'm h...      1\n",
       "...                                                  ...    ...\n",
       "10318  A time I was patient was when I had to be pati...     10\n",
       "10319  Being patient is hard to be. First of all its ...     10\n",
       "10320  One day I was watching @CAPS1. I was bored the...     10\n",
       "10321  My own way about patient is that when somebody...     10\n",
       "10322                              I dont like computers     10\n",
       "\n",
       "[10323 rows x 2 columns]"
      ]
     },
     "execution_count": 51,
     "metadata": {},
     "output_type": "execute_result"
    }
   ],
   "source": [
    "df"
   ]
  },
  {
   "cell_type": "code",
   "execution_count": 52,
   "metadata": {
    "execution": {
     "iopub.execute_input": "2021-04-11T01:59:01.549179Z",
     "iopub.status.busy": "2021-04-11T01:59:01.502768Z",
     "iopub.status.idle": "2021-04-11T01:59:01.556114Z",
     "shell.execute_reply": "2021-04-11T01:59:01.556646Z"
    },
    "papermill": {
     "duration": 2.597351,
     "end_time": "2021-04-11T01:59:01.556766",
     "exception": false,
     "start_time": "2021-04-11T01:58:58.959415",
     "status": "completed"
    },
    "tags": []
   },
   "outputs": [
    {
     "ename": "KeyError",
     "evalue": "'domain1_score'",
     "output_type": "error",
     "traceback": [
      "\u001b[0;31m---------------------------------------------------------------------------\u001b[0m",
      "\u001b[0;31mKeyError\u001b[0m                                  Traceback (most recent call last)",
      "\u001b[0;32m/opt/conda/lib/python3.7/site-packages/pandas/core/indexes/base.py\u001b[0m in \u001b[0;36mget_loc\u001b[0;34m(self, key, method, tolerance)\u001b[0m\n\u001b[1;32m   2897\u001b[0m             \u001b[0;32mtry\u001b[0m\u001b[0;34m:\u001b[0m\u001b[0;34m\u001b[0m\u001b[0;34m\u001b[0m\u001b[0m\n\u001b[0;32m-> 2898\u001b[0;31m                 \u001b[0;32mreturn\u001b[0m \u001b[0mself\u001b[0m\u001b[0;34m.\u001b[0m\u001b[0m_engine\u001b[0m\u001b[0;34m.\u001b[0m\u001b[0mget_loc\u001b[0m\u001b[0;34m(\u001b[0m\u001b[0mcasted_key\u001b[0m\u001b[0;34m)\u001b[0m\u001b[0;34m\u001b[0m\u001b[0;34m\u001b[0m\u001b[0m\n\u001b[0m\u001b[1;32m   2899\u001b[0m             \u001b[0;32mexcept\u001b[0m \u001b[0mKeyError\u001b[0m \u001b[0;32mas\u001b[0m \u001b[0merr\u001b[0m\u001b[0;34m:\u001b[0m\u001b[0;34m\u001b[0m\u001b[0;34m\u001b[0m\u001b[0m\n",
      "\u001b[0;32mpandas/_libs/index.pyx\u001b[0m in \u001b[0;36mpandas._libs.index.IndexEngine.get_loc\u001b[0;34m()\u001b[0m\n",
      "\u001b[0;32mpandas/_libs/index.pyx\u001b[0m in \u001b[0;36mpandas._libs.index.IndexEngine.get_loc\u001b[0;34m()\u001b[0m\n",
      "\u001b[0;32mpandas/_libs/hashtable_class_helper.pxi\u001b[0m in \u001b[0;36mpandas._libs.hashtable.PyObjectHashTable.get_item\u001b[0;34m()\u001b[0m\n",
      "\u001b[0;32mpandas/_libs/hashtable_class_helper.pxi\u001b[0m in \u001b[0;36mpandas._libs.hashtable.PyObjectHashTable.get_item\u001b[0;34m()\u001b[0m\n",
      "\u001b[0;31mKeyError\u001b[0m: 'domain1_score'",
      "\nThe above exception was the direct cause of the following exception:\n",
      "\u001b[0;31mKeyError\u001b[0m                                  Traceback (most recent call last)",
      "\u001b[0;32m<ipython-input-52-2efe50bf4d11>\u001b[0m in \u001b[0;36m<module>\u001b[0;34m\u001b[0m\n\u001b[1;32m      1\u001b[0m \u001b[0;32mfrom\u001b[0m \u001b[0msklearn\u001b[0m\u001b[0;34m.\u001b[0m\u001b[0mutils\u001b[0m \u001b[0;32mimport\u001b[0m \u001b[0mclass_weight\u001b[0m\u001b[0;34m\u001b[0m\u001b[0;34m\u001b[0m\u001b[0m\n\u001b[1;32m      2\u001b[0m class_weights = class_weight.compute_class_weight('balanced',\n\u001b[0;32m----> 3\u001b[0;31m                                                  \u001b[0mnp\u001b[0m\u001b[0;34m.\u001b[0m\u001b[0munique\u001b[0m\u001b[0;34m(\u001b[0m\u001b[0mdf\u001b[0m\u001b[0;34m[\u001b[0m\u001b[0;34m'domain1_score'\u001b[0m\u001b[0;34m]\u001b[0m\u001b[0;34m)\u001b[0m\u001b[0;34m,\u001b[0m\u001b[0;34m\u001b[0m\u001b[0;34m\u001b[0m\u001b[0m\n\u001b[0m\u001b[1;32m      4\u001b[0m                                                  train)\n",
      "\u001b[0;32m/opt/conda/lib/python3.7/site-packages/pandas/core/frame.py\u001b[0m in \u001b[0;36m__getitem__\u001b[0;34m(self, key)\u001b[0m\n\u001b[1;32m   2904\u001b[0m             \u001b[0;32mif\u001b[0m \u001b[0mself\u001b[0m\u001b[0;34m.\u001b[0m\u001b[0mcolumns\u001b[0m\u001b[0;34m.\u001b[0m\u001b[0mnlevels\u001b[0m \u001b[0;34m>\u001b[0m \u001b[0;36m1\u001b[0m\u001b[0;34m:\u001b[0m\u001b[0;34m\u001b[0m\u001b[0;34m\u001b[0m\u001b[0m\n\u001b[1;32m   2905\u001b[0m                 \u001b[0;32mreturn\u001b[0m \u001b[0mself\u001b[0m\u001b[0;34m.\u001b[0m\u001b[0m_getitem_multilevel\u001b[0m\u001b[0;34m(\u001b[0m\u001b[0mkey\u001b[0m\u001b[0;34m)\u001b[0m\u001b[0;34m\u001b[0m\u001b[0;34m\u001b[0m\u001b[0m\n\u001b[0;32m-> 2906\u001b[0;31m             \u001b[0mindexer\u001b[0m \u001b[0;34m=\u001b[0m \u001b[0mself\u001b[0m\u001b[0;34m.\u001b[0m\u001b[0mcolumns\u001b[0m\u001b[0;34m.\u001b[0m\u001b[0mget_loc\u001b[0m\u001b[0;34m(\u001b[0m\u001b[0mkey\u001b[0m\u001b[0;34m)\u001b[0m\u001b[0;34m\u001b[0m\u001b[0;34m\u001b[0m\u001b[0m\n\u001b[0m\u001b[1;32m   2907\u001b[0m             \u001b[0;32mif\u001b[0m \u001b[0mis_integer\u001b[0m\u001b[0;34m(\u001b[0m\u001b[0mindexer\u001b[0m\u001b[0;34m)\u001b[0m\u001b[0;34m:\u001b[0m\u001b[0;34m\u001b[0m\u001b[0;34m\u001b[0m\u001b[0m\n\u001b[1;32m   2908\u001b[0m                 \u001b[0mindexer\u001b[0m \u001b[0;34m=\u001b[0m \u001b[0;34m[\u001b[0m\u001b[0mindexer\u001b[0m\u001b[0;34m]\u001b[0m\u001b[0;34m\u001b[0m\u001b[0;34m\u001b[0m\u001b[0m\n",
      "\u001b[0;32m/opt/conda/lib/python3.7/site-packages/pandas/core/indexes/base.py\u001b[0m in \u001b[0;36mget_loc\u001b[0;34m(self, key, method, tolerance)\u001b[0m\n\u001b[1;32m   2898\u001b[0m                 \u001b[0;32mreturn\u001b[0m \u001b[0mself\u001b[0m\u001b[0;34m.\u001b[0m\u001b[0m_engine\u001b[0m\u001b[0;34m.\u001b[0m\u001b[0mget_loc\u001b[0m\u001b[0;34m(\u001b[0m\u001b[0mcasted_key\u001b[0m\u001b[0;34m)\u001b[0m\u001b[0;34m\u001b[0m\u001b[0;34m\u001b[0m\u001b[0m\n\u001b[1;32m   2899\u001b[0m             \u001b[0;32mexcept\u001b[0m \u001b[0mKeyError\u001b[0m \u001b[0;32mas\u001b[0m \u001b[0merr\u001b[0m\u001b[0;34m:\u001b[0m\u001b[0;34m\u001b[0m\u001b[0;34m\u001b[0m\u001b[0m\n\u001b[0;32m-> 2900\u001b[0;31m                 \u001b[0;32mraise\u001b[0m \u001b[0mKeyError\u001b[0m\u001b[0;34m(\u001b[0m\u001b[0mkey\u001b[0m\u001b[0;34m)\u001b[0m \u001b[0;32mfrom\u001b[0m \u001b[0merr\u001b[0m\u001b[0;34m\u001b[0m\u001b[0;34m\u001b[0m\u001b[0m\n\u001b[0m\u001b[1;32m   2901\u001b[0m \u001b[0;34m\u001b[0m\u001b[0m\n\u001b[1;32m   2902\u001b[0m         \u001b[0;32mif\u001b[0m \u001b[0mtolerance\u001b[0m \u001b[0;32mis\u001b[0m \u001b[0;32mnot\u001b[0m \u001b[0;32mNone\u001b[0m\u001b[0;34m:\u001b[0m\u001b[0;34m\u001b[0m\u001b[0;34m\u001b[0m\u001b[0m\n",
      "\u001b[0;31mKeyError\u001b[0m: 'domain1_score'"
     ]
    }
   ],
   "source": [
    "from sklearn.utils import class_weight\n",
    "class_weights = class_weight.compute_class_weight('balanced',\n",
    "                                                 np.unique(df['domain1_score']),\n",
    "                                                 train)"
   ]
  }
 ],
 "metadata": {
  "kernelspec": {
   "display_name": "Python 3.8.3 64-bit",
   "language": "python",
   "name": "python3"
  },
  "language_info": {
   "codemirror_mode": {
    "name": "ipython",
    "version": 3
   },
   "file_extension": ".py",
   "mimetype": "text/x-python",
   "name": "python",
   "nbconvert_exporter": "python",
   "pygments_lexer": "ipython3",
   "version": "3.8.3"
  },
  "papermill": {
   "duration": 1162.588092,
   "end_time": "2021-04-11T01:59:05.843016",
   "environment_variables": {},
   "exception": null,
   "input_path": "__notebook__.ipynb",
   "output_path": "__notebook__.ipynb",
   "parameters": {},
   "start_time": "2021-04-11T01:39:43.254924",
   "version": "2.1.0"
  },
  "vscode": {
   "interpreter": {
    "hash": "aee8b7b246df8f9039afb4144a1f6fd8d2ca17a180786b69acc140d282b71a49"
   }
  }
 },
 "nbformat": 4,
 "nbformat_minor": 4
}
